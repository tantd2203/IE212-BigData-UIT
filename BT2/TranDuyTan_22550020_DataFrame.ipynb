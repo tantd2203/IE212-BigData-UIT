{
  "nbformat": 4,
  "nbformat_minor": 0,
  "metadata": {
    "colab": {
      "provenance": []
    },
    "kernelspec": {
      "name": "python3",
      "display_name": "Python 3"
    },
    "language_info": {
      "name": "python"
    }
  },
  "cells": [
    {
      "cell_type": "markdown",
      "source": [
        "**Trần Duy Tân - 22550020**"
      ],
      "metadata": {
        "id": "itzTstF0kGiz"
      }
    },
    {
      "cell_type": "code",
      "execution_count": 3,
      "metadata": {
        "colab": {
          "base_uri": "https://localhost:8080/"
        },
        "id": "MSHPcLOj0Tza",
        "outputId": "ad7fb42d-7947-412d-cace-6da45506318a"
      },
      "outputs": [
        {
          "output_type": "stream",
          "name": "stdout",
          "text": [
            "Collecting findspark\n",
            "  Downloading findspark-2.0.1-py2.py3-none-any.whl (4.4 kB)\n",
            "Installing collected packages: findspark\n",
            "Successfully installed findspark-2.0.1\n"
          ]
        }
      ],
      "source": [
        "pip install findspark"
      ]
    },
    {
      "cell_type": "code",
      "source": [
        "pip install pyspark"
      ],
      "metadata": {
        "colab": {
          "base_uri": "https://localhost:8080/"
        },
        "id": "MmqntCVE0fFJ",
        "outputId": "09f7162f-959e-45dc-caa9-14845dfd8cff"
      },
      "execution_count": 4,
      "outputs": [
        {
          "output_type": "stream",
          "name": "stdout",
          "text": [
            "Collecting pyspark\n",
            "  Downloading pyspark-3.5.1.tar.gz (317.0 MB)\n",
            "\u001b[2K     \u001b[90m━━━━━━━━━━━━━━━━━━━━━━━━━━━━━━━━━━━━━━━━\u001b[0m \u001b[32m317.0/317.0 MB\u001b[0m \u001b[31m3.0 MB/s\u001b[0m eta \u001b[36m0:00:00\u001b[0m\n",
            "\u001b[?25h  Preparing metadata (setup.py) ... \u001b[?25l\u001b[?25hdone\n",
            "Requirement already satisfied: py4j==0.10.9.7 in /usr/local/lib/python3.10/dist-packages (from pyspark) (0.10.9.7)\n",
            "Building wheels for collected packages: pyspark\n",
            "  Building wheel for pyspark (setup.py) ... \u001b[?25l\u001b[?25hdone\n",
            "  Created wheel for pyspark: filename=pyspark-3.5.1-py2.py3-none-any.whl size=317488491 sha256=f49c5d52cd3ca6bd82839478c66379e244e10417c0fdfcf764a2fab5dcd1b0f8\n",
            "  Stored in directory: /root/.cache/pip/wheels/80/1d/60/2c256ed38dddce2fdd93be545214a63e02fbd8d74fb0b7f3a6\n",
            "Successfully built pyspark\n",
            "Installing collected packages: pyspark\n",
            "Successfully installed pyspark-3.5.1\n"
          ]
        }
      ]
    },
    {
      "cell_type": "markdown",
      "source": [
        " **câu 5 :Với mỗi userID, xuất ra (a) tên dòng phim nhận được đánh giá (rating) trung bình cao nhất từ user đó, (b) điểm rating\n",
        "trung bình của user đó cho dòng phim này, (c) danh sách top 5 bộ phim thuộc dòng phim này nhận được rating trung\n",
        "bình cao nhất từ mọi user mà user này chưa từng xem (chưa có đánh giá), và (c) điểm đánh giá trung bình của mọi user\n",
        "cho 5 bộ phim này. Ví dụ Film-Noir là dòng phim nhận được rating cao nhất từ user #1, bạn cần xuất ra danh sách 5 bộ\n",
        "phim thuộc về thể loại Film-Noir nhận rating trung bình cao nhất từ mọi user mà user #1 chưa xem (chưa đánh giá).\n",
        "Kết quả được sắp xếp theo userId như sau: (3 điểm)**"
      ],
      "metadata": {
        "id": "8mFrSNDyhTuz"
      }
    },
    {
      "cell_type": "markdown",
      "source": [
        "**Load Data**"
      ],
      "metadata": {
        "id": "df9XaPIhhcql"
      }
    },
    {
      "cell_type": "code",
      "source": [
        "from pyspark.sql import SparkSession\n",
        "from pyspark.sql import functions as F\n",
        "from pyspark.sql.functions import avg, split, explode, col, collect_list, first\n",
        "from pyspark.sql.types import StructType, StructField, StringType, IntegerType, DoubleType, ArrayType\n",
        "\n",
        "spark = SparkSession.builder.appName(\"SparkDataframe\").getOrCreate()\n",
        "\n",
        "movieDF = spark.read.options(delimiter=',').schema('movieId INT, title STRING, genres STRING').csv(\"movies_small.csv\")\n",
        "ratingDF = spark.read.options(delimiter=',').schema('userId INT, movieId INT, rating DOUBLE, timestamp DOUBLE').csv(\n",
        "    \"ratings_small.csv\")\n",
        "\n",
        "join5 = ratingDF.join(movieDF, on=['movieId'], how=\"inner\")\n",
        "genresDF = join5.withColumn(\"genre\", explode(split(\"genres\", \"\\|\")))\n",
        "join_group5 = genresDF.groupBy(\"userId\", \"genre\").agg(avg(\"rating\").alias(\"avg_rating\"))\n",
        "\n",
        "max_avg_rating_per_user = join_group5.orderBy(\"avg_rating\", ascending=False).groupBy(\"userId\").agg(\n",
        "    {\"genre\": \"first\", \"avg_rating\": \"max\"}).withColumnRenamed(\"max(avg_rating)\", \"User_avg_rating\").withColumnRenamed(\n",
        "    \"first(genre)\", \"Highest_rated_genre_name\").orderBy(\"userId\")\n",
        "\n",
        "max_avg_rating_per_user = max_avg_rating_per_user.withColumn(\"User_avg_rating\", F.round(\"User_avg_rating\", 2)).select(\"userId\", \"Highest_rated_genre_name\", \"User_avg_rating\")\n",
        "\n",
        "genresDF = genresDF.withColumnRenamed(\"title\", \"genre_title\")\n",
        "genresJoinDF = movieDF.join(genresDF, on='movieId', how=\"inner\")\n",
        "avg_rating_per_movie = genresJoinDF.groupBy(\"movieId\", \"genre\").agg(first(\"title\").alias(\"title\"), avg(\"rating\").alias(\"avg_rating\"))\\\n",
        "    .withColumn(\"avg_rating\", F.round(\"avg_rating\", 2))\n",
        "\n",
        "schema = StructType([\n",
        "    StructField(\"userId\", IntegerType(), True),\n",
        "    StructField(\"Top_5_unrated_movies_with_highest_rating\", ArrayType(StringType()), True),\n",
        "    StructField(\"Avg_rating_from_all_user\", ArrayType(DoubleType()), True)\n",
        "])\n",
        "\n",
        "temp_df = spark.createDataFrame([], schema=schema)\n",
        "\n",
        "# for x in max_avg_rating_per_user.rdd.collect():\n",
        "for x in max_avg_rating_per_user.limit(100).rdd.collect():\n",
        "    rated_movie_ids = ratingDF.select(\"movieId\").where(col(\"userId\") == x[\"userId\"])\n",
        "    notRated = ratingDF.select(\"movieId\").subtract(rated_movie_ids)\n",
        "    avg_rating_per_movie.join(notRated, \"movieId\", \"inner\")\n",
        "    top5_movies = avg_rating_per_movie.select('movieId', 'title', 'avg_rating').where(col(\"genre\") == x[\"Highest_rated_genre_name\"]).orderBy('avg_rating', ascending=False).limit(5)\n",
        "    concatenated_titles_list = top5_movies.select(collect_list(\"title\")).first()[0]\n",
        "    concatenated_avg_rating_list = top5_movies.select(collect_list(\"avg_rating\")).first()[0]\n",
        "    temp_row = spark.createDataFrame([(x[\"userId\"], concatenated_titles_list, concatenated_avg_rating_list)], ['Top_5_unrated_movies_with_highest_rating', 'Avg_rating_from_all_user'])\n",
        "    temp_df = temp_df.union(temp_row)\n",
        "\n",
        "\n",
        "# Hiển thị kết quả\n",
        "result = max_avg_rating_per_user.join(temp_df, on=['userId'], how=\"inner\").orderBy(\"userId\")\n",
        "result.show(10, truncate=False)\n",
        "\n"
      ],
      "metadata": {
        "id": "wAazyvzjhdVb",
        "colab": {
          "base_uri": "https://localhost:8080/"
        },
        "outputId": "be85a973-db08-460c-d927-7872d7f73794"
      },
      "execution_count": 7,
      "outputs": [
        {
          "output_type": "stream",
          "name": "stdout",
          "text": [
            "+------+------------------------+---------------+------------------------------------------------------------------------------------------------------------------------------------------------------------------------------------------------------+----------------------------+\n",
            "|userId|Highest_rated_genre_name|User_avg_rating|Top_5_unrated_movies_with_highest_rating                                                                                                                                                              |Avg_rating_from_all_user    |\n",
            "+------+------------------------+---------------+------------------------------------------------------------------------------------------------------------------------------------------------------------------------------------------------------+----------------------------+\n",
            "|1     |Film-Noir               |5.0            |[Rififi (Du rififi chez les hommes) (1955), Long Goodbye, The (1973), 13 Tzameti (2005), You Only Live Once (1937), Laura (1944)]                                                                     |[4.75, 4.67, 4.5, 4.5, 4.33]|\n",
            "|2     |Romance                 |4.5            |[Man and a Woman, A (Un homme et une femme) (1966), Duel in the Sun (1946), Sandpiper, The (1965), All the Vermeers in New York (1990), What Happened Was... (1994)]                                  |[5.0, 5.0, 5.0, 5.0, 5.0]   |\n",
            "|3     |Mystery                 |5.0            |[7 Faces of Dr. Lao (1964), Scooby-Doo! Curse of the Lake Monster (2010), Galaxy of Terror (Quest) (1981), Mother (Madeo) (2009), 'Salem's Lot (2004)]                                                |[5.0, 5.0, 5.0, 5.0, 5.0]   |\n",
            "|4     |Horror                  |4.25           |[Slumber Party Massacre II (1987), Monster Squad, The (1987), Slumber Party Massacre III (1990), Vampire in Venice (Nosferatu a Venezia) (Nosferatu in Venice) (1986), Sorority House Massacre (1986)]|[5.0, 5.0, 5.0, 5.0, 5.0]   |\n",
            "|5     |Musical                 |4.4            |[Satin Rouge (2002), Woman Is a Woman, A (femme est une femme, Une) (1961), Babes in Toyland (1934), True Stories (1986), Into the Woods (1991)]                                                      |[5.0, 5.0, 5.0, 5.0, 5.0]   |\n",
            "|6     |IMAX                    |4.67           |[More (1998), Happy Feet Two (2011), Journey to the West: Conquering the Demons (Daai wa sai you chi Chui mo chun kei) (2013), Final Destination 5 (2011), Everest (1998)]                            |[5.0, 5.0, 4.75, 4.5, 4.25] |\n",
            "|7     |Horror                  |4.0            |[Slumber Party Massacre II (1987), Monster Squad, The (1987), Slumber Party Massacre III (1990), Vampire in Venice (Nosferatu a Venezia) (Nosferatu in Venice) (1986), Sorority House Massacre (1986)]|[5.0, 5.0, 5.0, 5.0, 5.0]   |\n",
            "|8     |Animation               |5.0            |[Ugly Duckling and Me!, The (2006), Idiots and Angels (2008), Lesson Faust (1994), Garfield's Pet Force (2009), Light Years (Gandahar) (1988)]                                                        |[5.0, 5.0, 5.0, 5.0, 5.0]   |\n",
            "|9     |Fantasy                 |5.0            |[Lesson Faust (1994), Light Years (Gandahar) (1988), Babes in Toyland (1934), Stand, The (1994), Into the Woods (1991)]                                                                               |[5.0, 5.0, 5.0, 5.0, 5.0]   |\n",
            "|10    |Animation               |3.87           |[Ugly Duckling and Me!, The (2006), Idiots and Angels (2008), Lesson Faust (1994), Garfield's Pet Force (2009), Light Years (Gandahar) (1988)]                                                        |[5.0, 5.0, 5.0, 5.0, 5.0]   |\n",
            "+------+------------------------+---------------+------------------------------------------------------------------------------------------------------------------------------------------------------------------------------------------------------+----------------------------+\n",
            "only showing top 10 rows\n",
            "\n"
          ]
        }
      ]
    },
    {
      "cell_type": "markdown",
      "source": [
        "**LoadData**"
      ],
      "metadata": {
        "id": "bwkF7M7ZLsjB"
      }
    },
    {
      "cell_type": "code",
      "source": [
        "from pyspark.sql import SparkSession\n",
        "from pyspark.sql import functions as f\n",
        "spark = SparkSession.builder.appName(\"DataFrame\").getOrCreate()\n",
        "from pyspark.sql.functions import avg, explode, split\n",
        "# Read movie and rating data\n",
        "movieDF = spark.read.options(delimiter=',').schema('movie_id INT, title STRING, genres STRING').csv(\"movies_small.csv\")\n",
        "ratingDF = spark.read.options(delimiter=',').schema('user_id INT, movie_id INT, rating DOUBLE, timestamp STRING').csv(\"ratings_small.csv\")"
      ],
      "metadata": {
        "id": "IWPX_reKL0bs"
      },
      "execution_count": 8,
      "outputs": []
    },
    {
      "cell_type": "markdown",
      "source": [
        "**Câu 1 Xuất số lượng phim được làm mỗi năm. Kết quả được sắp xếp theo năm và có định dạng sau đây. (1 điểm)**"
      ],
      "metadata": {
        "id": "gUTUErPoMCGU"
      }
    },
    {
      "cell_type": "code",
      "source": [
        "temp1 = movieDF.withColumn(\"Year\",\n",
        "                           f.when(f.regexp_extract(\"title\", r\"\\((\\d{4}(\\–\\d{4})?)\\)\", 1) != \"\",\n",
        "                                  f.regexp_extract(\"title\", r\"\\((\\d{4}(\\–\\d{4})?)\\)\", 1).cast(\"int\"))\n",
        "                            .otherwise(f.lit(' '))\n",
        "                          )\n",
        "temp1 = temp1.na.drop(subset=[\"Year\"])\n",
        "result1 = temp1.groupBy(\"Year\").agg(f.count(\"year\").alias(\"Num_of_movies\"))\n",
        "result1 = result1.sort(result1['Year'].cast('int'))\n",
        "result1.show(20, truncate=False)"
      ],
      "metadata": {
        "colab": {
          "base_uri": "https://localhost:8080/"
        },
        "id": "eAkuUnowMJqB",
        "outputId": "df3d4997-22b2-480c-9872-f5b754c5bc50"
      },
      "execution_count": 9,
      "outputs": [
        {
          "output_type": "stream",
          "name": "stdout",
          "text": [
            "+----+-------------+\n",
            "|Year|Num_of_movies|\n",
            "+----+-------------+\n",
            "|    |13           |\n",
            "|1902|1            |\n",
            "|1903|1            |\n",
            "|1908|1            |\n",
            "|1915|1            |\n",
            "|1916|4            |\n",
            "|1917|1            |\n",
            "|1919|1            |\n",
            "|1920|2            |\n",
            "|1921|1            |\n",
            "|1922|1            |\n",
            "|1923|4            |\n",
            "|1924|5            |\n",
            "|1925|4            |\n",
            "|1926|5            |\n",
            "|1927|7            |\n",
            "|1928|4            |\n",
            "|1929|4            |\n",
            "|1930|5            |\n",
            "|1931|14           |\n",
            "+----+-------------+\n",
            "only showing top 20 rows\n",
            "\n"
          ]
        }
      ]
    },
    {
      "cell_type": "markdown",
      "source": [
        "**câu 2 : Xuất số lượng phim thuộc về mỗi dòng phim được làm mỗi năm. Kết quả được sắp xếp theo năm. Số phim của mỗi\n",
        "dòng được trình bày trong từng cột như sau: ( 2 điểm)**"
      ],
      "metadata": {
        "id": "8FD9j1LRMRSM"
      }
    },
    {
      "cell_type": "code",
      "source": [
        "cau2 = movieDF.withColumn(\"Year\", f.regexp_extract(\"title\", r\"\\((\\d{4})\\)\", 1))\n",
        "cau2 = cau2.withColumn(\"Genre\", f.explode(f.split(\"genres\", \"\\|\")))\n",
        "result_cau2 = cau2.groupBy(\"Year\").pivot(\"Genre\").count()\n",
        "result_cau2= result_cau2.orderBy(\"Year\")\n",
        "result_cau2.show(10, truncate=False)"
      ],
      "metadata": {
        "colab": {
          "base_uri": "https://localhost:8080/"
        },
        "id": "RgGbRu0RMnz2",
        "outputId": "3018ffab-583e-4bf4-cf75-424818d2fdc0"
      },
      "execution_count": 10,
      "outputs": [
        {
          "output_type": "stream",
          "name": "stdout",
          "text": [
            "+----+------------------+------+---------+---------+--------+------+-----+-----------+-----+-------+---------+------+----+-------+-------+-------+------+--------+----+-------+------+\n",
            "|Year|(no genres listed)|Action|Adventure|Animation|Children|Comedy|Crime|Documentary|Drama|Fantasy|Film-Noir|Horror|IMAX|Musical|Mystery|Romance|Sci-Fi|Thriller|War |Western|genres|\n",
            "+----+------------------+------+---------+---------+--------+------+-----+-----------+-----+-------+---------+------+----+-------+-------+-------+------+--------+----+-------+------+\n",
            "|    |9                 |1     |NULL     |NULL     |NULL    |NULL  |NULL |NULL       |2    |NULL   |NULL     |NULL  |NULL|NULL   |NULL   |NULL   |2     |2       |NULL|NULL   |1     |\n",
            "|1902|NULL              |1     |1        |NULL     |NULL    |NULL  |NULL |NULL       |NULL |1      |NULL     |NULL  |NULL|NULL   |NULL   |NULL   |1     |NULL    |NULL|NULL   |NULL  |\n",
            "|1903|NULL              |NULL  |NULL     |NULL     |NULL    |NULL  |1    |NULL       |NULL |NULL   |NULL     |NULL  |NULL|NULL   |NULL   |NULL   |NULL  |NULL    |NULL|1      |NULL  |\n",
            "|1908|NULL              |NULL  |NULL     |1        |NULL    |1     |NULL |NULL       |NULL |NULL   |NULL     |NULL  |NULL|NULL   |NULL   |NULL   |1     |NULL    |NULL|NULL   |NULL  |\n",
            "|1915|NULL              |NULL  |NULL     |NULL     |NULL    |NULL  |NULL |NULL       |1    |NULL   |NULL     |NULL  |NULL|NULL   |NULL   |NULL   |NULL  |NULL    |1   |NULL   |NULL  |\n",
            "|1916|NULL              |1     |1        |NULL     |NULL    |1     |NULL |NULL       |1    |1      |NULL     |NULL  |NULL|NULL   |NULL   |1      |1     |NULL    |NULL|NULL   |NULL  |\n",
            "|1917|NULL              |NULL  |NULL     |NULL     |NULL    |1     |NULL |NULL       |NULL |NULL   |NULL     |NULL  |NULL|NULL   |NULL   |NULL   |NULL  |NULL    |NULL|NULL   |NULL  |\n",
            "|1919|NULL              |NULL  |NULL     |NULL     |NULL    |1     |NULL |NULL       |1    |NULL   |NULL     |NULL  |NULL|NULL   |NULL   |NULL   |NULL  |NULL    |NULL|NULL   |NULL  |\n",
            "|1920|NULL              |NULL  |NULL     |NULL     |NULL    |1     |1    |NULL       |NULL |1      |NULL     |1     |NULL|NULL   |NULL   |NULL   |NULL  |NULL    |NULL|NULL   |NULL  |\n",
            "|1921|NULL              |NULL  |NULL     |NULL     |NULL    |1     |NULL |NULL       |1    |NULL   |NULL     |NULL  |NULL|NULL   |NULL   |NULL   |NULL  |NULL    |NULL|NULL   |NULL  |\n",
            "+----+------------------+------+---------+---------+--------+------+-----+-----------+-----+-------+---------+------+----+-------+-------+-------+------+--------+----+-------+------+\n",
            "only showing top 10 rows\n",
            "\n"
          ]
        }
      ]
    },
    {
      "cell_type": "markdown",
      "source": [
        "**Câu 3 Với mỗi userID, xuất điểm đánh giá trung bình của user đó cho mỗi dòng phim. Kết quả được sắp xếp theo userID.\n",
        "Kết quả của từng dòng phim được trình bày trong mỗi cột như sau: (2 điểm)**"
      ],
      "metadata": {
        "id": "df2R2CpaMzJo"
      }
    },
    {
      "cell_type": "code",
      "source": [
        "joinCau3 = ratingDF.join(movieDF, on=['movie_id'], how=\"inner\")\n",
        "cau3 = joinCau3.withColumn(\"Genre\", explode(split(\"genres\", \"\\|\")))\n",
        "result_cau3 = cau3.groupBy(\"user_id\", \"Genre\").agg(avg(\"rating\").alias(\"avg_rating\"))\n",
        "result_cau3 = result_cau3.groupBy(\"user_id\").pivot(\"Genre\").avg(\"avg_rating\")\n",
        "# Sắp xếp theo userId và hiển thị 100 dòng mà không truncate\n",
        "sorted_cau3 = result_cau3.orderBy(\"user_id\")\n",
        "sorted_cau3.show(10, truncate=False)\n"
      ],
      "metadata": {
        "colab": {
          "base_uri": "https://localhost:8080/"
        },
        "id": "fUthu9qlMy81",
        "outputId": "edb53db9-b5c1-4de4-9fcd-e278588bb35d"
      },
      "execution_count": 11,
      "outputs": [
        {
          "output_type": "stream",
          "name": "stdout",
          "text": [
            "+-------+------------------+------------------+------------------+------------------+------------------+------------------+------------------+-----------------+------------------+------------------+---------+------------------+------------------+------------------+------------------+------------------+------------------+------------------+------------------+------------------+\n",
            "|user_id|(no genres listed)|Action            |Adventure         |Animation         |Children          |Comedy            |Crime             |Documentary      |Drama             |Fantasy           |Film-Noir|Horror            |IMAX              |Musical           |Mystery           |Romance           |Sci-Fi            |Thriller          |War               |Western           |\n",
            "+-------+------------------+------------------+------------------+------------------+------------------+------------------+------------------+-----------------+------------------+------------------+---------+------------------+------------------+------------------+------------------+------------------+------------------+------------------+------------------+------------------+\n",
            "|1      |NULL              |4.322222222222222 |4.3882352941176475|4.689655172413793 |4.5476190476190474|4.27710843373494  |4.355555555555555 |NULL             |4.529411764705882 |4.297872340425532 |5.0      |3.4705882352941178|NULL              |4.681818181818182 |4.166666666666667 |4.3076923076923075|4.225             |4.1454545454545455|4.5               |4.285714285714286 |\n",
            "|2      |NULL              |3.9545454545454546|4.166666666666667 |NULL              |NULL              |4.0               |3.8               |4.333333333333333|3.8823529411764706|NULL              |NULL     |3.0               |3.75              |NULL              |4.0               |4.5               |3.875             |3.7               |4.5               |3.5               |\n",
            "|3      |NULL              |3.5714285714285716|2.727272727272727 |0.5               |0.5               |1.0               |0.5               |NULL             |0.75              |3.375             |NULL     |4.6875            |NULL              |0.5               |5.0               |0.5               |4.2               |4.142857142857143 |0.5               |NULL              |\n",
            "|4      |NULL              |3.32              |3.6551724137931036|4.0               |3.8               |3.5096153846153846|3.814814814814815 |4.0              |3.4833333333333334|3.6842105263157894|4.0      |4.25              |3.0               |4.0               |3.4782608695652173|3.3793103448275863|2.8333333333333335|3.5526315789473686|3.5714285714285716|3.8               |\n",
            "|5      |NULL              |3.111111111111111 |3.25              |4.333333333333333 |4.111111111111111 |3.466666666666667 |3.8333333333333335|NULL             |3.8               |4.142857142857143 |NULL     |3.0               |3.6666666666666665|4.4               |4.0               |3.090909090909091 |2.5               |3.5555555555555554|3.3333333333333335|3.0               |\n",
            "|6      |NULL              |3.609375          |3.893617021276596 |4.071428571428571 |3.617021276595745 |3.37007874015748  |3.2857142857142856|NULL             |3.6142857142857143|3.5384615384615383|2.5      |3.263157894736842 |4.666666666666667 |4.166666666666667 |3.7333333333333334|3.6142857142857143|3.4761904761904763|3.5441176470588234|3.5833333333333335|3.8181818181818183|\n",
            "|7      |NULL              |3.2578125         |3.314814814814815 |3.392857142857143 |3.2               |3.163265306122449 |3.3076923076923075|NULL             |3.1315789473684212|3.0652173913043477|3.25     |4.0               |2.4545454545454546|3.6666666666666665|3.1785714285714284|2.65              |3.1547619047619047|3.4302325581395348|3.2916666666666665|1.5               |\n",
            "|8      |NULL              |3.3333333333333335|3.5454545454545454|5.0               |4.25              |3.2083333333333335|3.888888888888889 |NULL             |3.789473684210526 |3.25              |NULL     |4.5               |4.5               |5.0               |4.0               |3.5               |3.25              |3.75              |3.6666666666666665|3.0               |\n",
            "|9      |NULL              |3.125             |3.8               |4.0               |4.0               |3.6666666666666665|3.142857142857143 |NULL             |3.4285714285714284|5.0               |4.0      |1.8               |3.0               |3.0               |4.0               |3.1666666666666665|3.0               |2.5454545454545454|3.5               |4.0               |\n",
            "|10     |NULL              |3.5               |3.5806451612903225|3.8666666666666667|3.607142857142857 |3.2658227848101267|3.1153846153846154|NULL             |3.1527777777777777|3.4411764705882355|NULL     |1.75              |3.361111111111111 |3.3333333333333335|2.1666666666666665|3.3333333333333335|2.0               |3.076923076923077 |3.75              |NULL              |\n",
            "+-------+------------------+------------------+------------------+------------------+------------------+------------------+------------------+-----------------+------------------+------------------+---------+------------------+------------------+------------------+------------------+------------------+------------------+------------------+------------------+------------------+\n",
            "only showing top 10 rows\n",
            "\n"
          ]
        }
      ]
    },
    {
      "cell_type": "markdown",
      "source": [
        "**Câu 4 :Với mỗi phim, xuất ra tên, năm, số lượng ratings, và điểm rating trung bình (từ mọi users) cho bộ phim đó. Kết quả\n",
        "được sắp xếp theo năm, sau đó theo tên phim như sau: (2 điểm)**"
      ],
      "metadata": {
        "id": "N8fnb6bcM8gj"
      }
    },
    {
      "cell_type": "code",
      "source": [
        "cau4 = movieDF.join(ratingDF, on='movie_id', how='inner')\n",
        "resultDF = cau4.groupBy('title', 'genres', 'movie_id').agg(\n",
        "    f.count('rating').alias('Num_rating'),\n",
        "    f.avg('rating').alias('Average_rating')\n",
        ")\n",
        "resultDF = resultDF.withColumn('Year', f.regexp_extract('title', r'\\((\\d{4})\\)', 1))\n",
        "resultDF = resultDF.select('Year', 'title', 'Num_rating', 'Average_rating').withColumnRenamed('title', 'Movie_name') \\\n",
        "    .orderBy(['Year', 'title'])\n",
        "resultDF.show(10, truncate=False)"
      ],
      "metadata": {
        "colab": {
          "base_uri": "https://localhost:8080/"
        },
        "id": "0H4x9fFkNAhw",
        "outputId": "bfeb3b14-3784-4bef-e71e-1fcb3afba7d3"
      },
      "execution_count": 12,
      "outputs": [
        {
          "output_type": "stream",
          "name": "stdout",
          "text": [
            "+----+---------------------------------+----------+--------------+\n",
            "|Year|Movie_name                       |Num_rating|Average_rating|\n",
            "+----+---------------------------------+----------+--------------+\n",
            "|    |Babylon 5                        |2         |2.25          |\n",
            "|    |Black Mirror                     |1         |5.0           |\n",
            "|    |Cosmos                           |2         |4.5           |\n",
            "|    |Death Note: Desu nôto (2006–2007)|1         |5.0           |\n",
            "|    |Generation Iron 2                |1         |3.5           |\n",
            "|    |Hyena Road                       |1         |2.0           |\n",
            "|    |Maria Bamford: Old Baby          |1         |1.0           |\n",
            "|    |Moonlight                        |1         |5.0           |\n",
            "|    |Nocturnal Animals                |1         |3.0           |\n",
            "|    |Paterson                         |1         |4.5           |\n",
            "+----+---------------------------------+----------+--------------+\n",
            "only showing top 10 rows\n",
            "\n"
          ]
        }
      ]
    }
  ]
}