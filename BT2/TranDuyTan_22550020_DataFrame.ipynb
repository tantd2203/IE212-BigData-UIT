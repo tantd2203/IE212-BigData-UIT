{
  "cells": [
    {
      "cell_type": "markdown",
      "metadata": {
        "id": "itzTstF0kGiz"
      },
      "source": [
        "**Trần Duy Tân - 22550020**"
      ]
    },
    {
      "cell_type": "code",
      "execution_count": 9,
      "metadata": {
        "colab": {
          "base_uri": "https://localhost:8080/"
        },
        "id": "MSHPcLOj0Tza",
        "outputId": "abf5a828-f2d9-409c-ed24-adc3ed4b2a7a"
      },
      "outputs": [
        {
          "name": "stdout",
          "output_type": "stream",
          "text": [
            "Requirement already satisfied: findspark in /usr/local/lib/python3.10/dist-packages (2.0.1)\n"
          ]
        }
      ],
      "source": [
        "pip install findspark"
      ]
    },
    {
      "cell_type": "code",
      "execution_count": 10,
      "metadata": {
        "colab": {
          "base_uri": "https://localhost:8080/"
        },
        "id": "MmqntCVE0fFJ",
        "outputId": "c92a0f57-759f-4596-96b5-6125aef6c709"
      },
      "outputs": [
        {
          "name": "stdout",
          "output_type": "stream",
          "text": [
            "Requirement already satisfied: pyspark in /usr/local/lib/python3.10/dist-packages (3.5.1)\n",
            "Requirement already satisfied: py4j==0.10.9.7 in /usr/local/lib/python3.10/dist-packages (from pyspark) (0.10.9.7)\n"
          ]
        }
      ],
      "source": [
        "pip install pyspark"
      ]
    },
    {
      "cell_type": "markdown",
      "metadata": {
        "id": "8mFrSNDyhTuz"
      },
      "source": [
        "**Câu 1: Xuất số lượng phim được làm mỗi năm. Kết quả được sắp xếp theo năm và có định dạng sau đây. (1 điểm)**"
      ]
    },
    {
      "cell_type": "markdown",
      "metadata": {
        "id": "df9XaPIhhcql"
      },
      "source": [
        "**Load Data**"
      ]
    },
    {
      "cell_type": "code",
      "execution_count": 16,
      "metadata": {
        "id": "wAazyvzjhdVb"
      },
      "outputs": [],
      "source": [
        "from pyspark.sql import SparkSession\n",
        "from pyspark.sql import functions as f\n",
        "spark = SparkSession.builder.appName(\"DataFrame\").getOrCreate()\n",
        "from pyspark.sql.functions import avg, explode, split\n",
        "# Read movie and rating data\n",
        "movieDF = spark.read.options(delimiter=',').schema('movie_id INT, title STRING, genres STRING').csv(\"movies_small.csv\")\n",
        "ratingDF = spark.read.options(delimiter=',').schema('user_id INT, movie_id INT, rating DOUBLE, timestamp STRING').csv(\"ratings_small.csv\")\n"
      ]
    },
    {
      "cell_type": "markdown",
      "metadata": {
        "id": "qtsCc63oh4tJ"
      },
      "source": [
        "**Câu 1 Xuất số lượng phim được làm mỗi năm. Kết quả được sắp xếp theo năm và có định dạng sau đây. (1 điểm)**"
      ]
    },
    {
      "cell_type": "code",
      "execution_count": 14,
      "metadata": {
        "colab": {
          "base_uri": "https://localhost:8080/"
        },
        "id": "6GNr4nnRh4dz",
        "outputId": "2368acaf-9425-47dd-b373-9cb15eada7fd"
      },
      "outputs": [
        {
          "name": "stdout",
          "output_type": "stream",
          "text": [
            "+----+-------------+\n",
            "|Year|Num_of_movies|\n",
            "+----+-------------+\n",
            "|    |13           |\n",
            "|1902|1            |\n",
            "|1903|1            |\n",
            "|1908|1            |\n",
            "|1915|1            |\n",
            "|1916|4            |\n",
            "|1917|1            |\n",
            "|1919|1            |\n",
            "|1920|2            |\n",
            "|1921|1            |\n",
            "|1922|1            |\n",
            "|1923|4            |\n",
            "|1924|5            |\n",
            "|1925|4            |\n",
            "|1926|5            |\n",
            "|1927|7            |\n",
            "|1928|4            |\n",
            "|1929|4            |\n",
            "|1930|5            |\n",
            "|1931|14           |\n",
            "+----+-------------+\n",
            "only showing top 20 rows\n",
            "\n"
          ]
        }
      ],
      "source": [
        "temp1 = movieDF.withColumn(\"Year\",\n",
        "                           f.when(f.regexp_extract(\"title\", r\"\\((\\d{4}(\\–\\d{4})?)\\)\", 1) != \"\",\n",
        "                                  f.regexp_extract(\"title\", r\"\\((\\d{4}(\\–\\d{4})?)\\)\", 1).cast(\"int\"))\n",
        "                            .otherwise(f.lit(' '))\n",
        "                          )\n",
        "temp1 = temp1.na.drop(subset=[\"Year\"])\n",
        "result1 = temp1.groupBy(\"Year\").agg(f.count(\"year\").alias(\"Num_of_movies\"))\n",
        "result1 = result1.sort(result1['Year'].cast('int'))\n",
        "result1.show(20, truncate=False)\n"
      ]
    },
    {
      "cell_type": "markdown",
      "metadata": {
        "id": "k8Cw9vWEiPrv"
      },
      "source": [
        " **câu 2 : Xuất số lượng phim thuộc về mỗi dòng phim được làm mỗi năm. Kết quả được sắp xếp theo năm. Số phim của mỗi\n",
        "dòng được trình bày trong từng cột như sau: ( 2 điểm)**"
      ]
    },
    {
      "cell_type": "code",
      "execution_count": 18,
      "metadata": {
        "colab": {
          "base_uri": "https://localhost:8080/"
        },
        "id": "1OuUX3zgiaLb",
        "outputId": "40549984-759c-4440-cd40-63e66fba42b2"
      },
      "outputs": [
        {
          "name": "stdout",
          "output_type": "stream",
          "text": [
            "+----+------------------+------+---------+---------+--------+------+-----+-----------+-----+-------+---------+------+----+-------+-------+-------+------+--------+----+-------+------+\n",
            "|Year|(no genres listed)|Action|Adventure|Animation|Children|Comedy|Crime|Documentary|Drama|Fantasy|Film-Noir|Horror|IMAX|Musical|Mystery|Romance|Sci-Fi|Thriller|War |Western|genres|\n",
            "+----+------------------+------+---------+---------+--------+------+-----+-----------+-----+-------+---------+------+----+-------+-------+-------+------+--------+----+-------+------+\n",
            "|    |9                 |1     |NULL     |NULL     |NULL    |NULL  |NULL |NULL       |2    |NULL   |NULL     |NULL  |NULL|NULL   |NULL   |NULL   |2     |2       |NULL|NULL   |1     |\n",
            "|1902|NULL              |1     |1        |NULL     |NULL    |NULL  |NULL |NULL       |NULL |1      |NULL     |NULL  |NULL|NULL   |NULL   |NULL   |1     |NULL    |NULL|NULL   |NULL  |\n",
            "|1903|NULL              |NULL  |NULL     |NULL     |NULL    |NULL  |1    |NULL       |NULL |NULL   |NULL     |NULL  |NULL|NULL   |NULL   |NULL   |NULL  |NULL    |NULL|1      |NULL  |\n",
            "|1908|NULL              |NULL  |NULL     |1        |NULL    |1     |NULL |NULL       |NULL |NULL   |NULL     |NULL  |NULL|NULL   |NULL   |NULL   |1     |NULL    |NULL|NULL   |NULL  |\n",
            "|1915|NULL              |NULL  |NULL     |NULL     |NULL    |NULL  |NULL |NULL       |1    |NULL   |NULL     |NULL  |NULL|NULL   |NULL   |NULL   |NULL  |NULL    |1   |NULL   |NULL  |\n",
            "|1916|NULL              |1     |1        |NULL     |NULL    |1     |NULL |NULL       |1    |1      |NULL     |NULL  |NULL|NULL   |NULL   |1      |1     |NULL    |NULL|NULL   |NULL  |\n",
            "|1917|NULL              |NULL  |NULL     |NULL     |NULL    |1     |NULL |NULL       |NULL |NULL   |NULL     |NULL  |NULL|NULL   |NULL   |NULL   |NULL  |NULL    |NULL|NULL   |NULL  |\n",
            "|1919|NULL              |NULL  |NULL     |NULL     |NULL    |1     |NULL |NULL       |1    |NULL   |NULL     |NULL  |NULL|NULL   |NULL   |NULL   |NULL  |NULL    |NULL|NULL   |NULL  |\n",
            "|1920|NULL              |NULL  |NULL     |NULL     |NULL    |1     |1    |NULL       |NULL |1      |NULL     |1     |NULL|NULL   |NULL   |NULL   |NULL  |NULL    |NULL|NULL   |NULL  |\n",
            "|1921|NULL              |NULL  |NULL     |NULL     |NULL    |1     |NULL |NULL       |1    |NULL   |NULL     |NULL  |NULL|NULL   |NULL   |NULL   |NULL  |NULL    |NULL|NULL   |NULL  |\n",
            "+----+------------------+------+---------+---------+--------+------+-----+-----------+-----+-------+---------+------+----+-------+-------+-------+------+--------+----+-------+------+\n",
            "only showing top 10 rows\n",
            "\n"
          ]
        }
      ],
      "source": [
        "cau2 = movieDF.withColumn(\"Year\", f.regexp_extract(\"title\", r\"\\((\\d{4})\\)\", 1))\n",
        "cau2 = cau2.withColumn(\"Genre\", f.explode(f.split(\"genres\", \"\\|\")))\n",
        "result_cau2 = cau2.groupBy(\"Year\").pivot(\"Genre\").count()\n",
        "result_cau2= result_cau2.orderBy(\"Year\")\n",
        "result_cau2.show(10, truncate=False)"
      ]
    },
    {
      "cell_type": "markdown",
      "metadata": {
        "id": "drH_j9U8jC2N"
      },
      "source": [
        "**Câu 3 Với mỗi userID, xuất điểm đánh giá trung bình của user đó cho mỗi dòng phim. Kết quả được sắp xếp theo userID.\n",
        "Kết quả của từng dòng phim được trình bày trong mỗi cột như sau: (2 điểm)**"
      ]
    },
    {
      "cell_type": "code",
      "execution_count": 19,
      "metadata": {
        "colab": {
          "base_uri": "https://localhost:8080/"
        },
        "id": "DWJCoLVEjDEd",
        "outputId": "7b49a4c8-e6f7-44a0-c624-4da71ff38295"
      },
      "outputs": [
        {
          "name": "stdout",
          "output_type": "stream",
          "text": [
            "+-------+------------------+------------------+------------------+------------------+------------------+------------------+------------------+-----------------+------------------+------------------+---------+------------------+------------------+------------------+------------------+------------------+------------------+------------------+------------------+------------------+\n",
            "|user_id|(no genres listed)|Action            |Adventure         |Animation         |Children          |Comedy            |Crime             |Documentary      |Drama             |Fantasy           |Film-Noir|Horror            |IMAX              |Musical           |Mystery           |Romance           |Sci-Fi            |Thriller          |War               |Western           |\n",
            "+-------+------------------+------------------+------------------+------------------+------------------+------------------+------------------+-----------------+------------------+------------------+---------+------------------+------------------+------------------+------------------+------------------+------------------+------------------+------------------+------------------+\n",
            "|1      |NULL              |4.322222222222222 |4.3882352941176475|4.689655172413793 |4.5476190476190474|4.27710843373494  |4.355555555555555 |NULL             |4.529411764705882 |4.297872340425532 |5.0      |3.4705882352941178|NULL              |4.681818181818182 |4.166666666666667 |4.3076923076923075|4.225             |4.1454545454545455|4.5               |4.285714285714286 |\n",
            "|2      |NULL              |3.9545454545454546|4.166666666666667 |NULL              |NULL              |4.0               |3.8               |4.333333333333333|3.8823529411764706|NULL              |NULL     |3.0               |3.75              |NULL              |4.0               |4.5               |3.875             |3.7               |4.5               |3.5               |\n",
            "|3      |NULL              |3.5714285714285716|2.727272727272727 |0.5               |0.5               |1.0               |0.5               |NULL             |0.75              |3.375             |NULL     |4.6875            |NULL              |0.5               |5.0               |0.5               |4.2               |4.142857142857143 |0.5               |NULL              |\n",
            "|4      |NULL              |3.32              |3.6551724137931036|4.0               |3.8               |3.5096153846153846|3.814814814814815 |4.0              |3.4833333333333334|3.6842105263157894|4.0      |4.25              |3.0               |4.0               |3.4782608695652173|3.3793103448275863|2.8333333333333335|3.5526315789473686|3.5714285714285716|3.8               |\n",
            "|5      |NULL              |3.111111111111111 |3.25              |4.333333333333333 |4.111111111111111 |3.466666666666667 |3.8333333333333335|NULL             |3.8               |4.142857142857143 |NULL     |3.0               |3.6666666666666665|4.4               |4.0               |3.090909090909091 |2.5               |3.5555555555555554|3.3333333333333335|3.0               |\n",
            "|6      |NULL              |3.609375          |3.893617021276596 |4.071428571428571 |3.617021276595745 |3.37007874015748  |3.2857142857142856|NULL             |3.6142857142857143|3.5384615384615383|2.5      |3.263157894736842 |4.666666666666667 |4.166666666666667 |3.7333333333333334|3.6142857142857143|3.4761904761904763|3.5441176470588234|3.5833333333333335|3.8181818181818183|\n",
            "|7      |NULL              |3.2578125         |3.314814814814815 |3.392857142857143 |3.2               |3.163265306122449 |3.3076923076923075|NULL             |3.1315789473684212|3.0652173913043477|3.25     |4.0               |2.4545454545454546|3.6666666666666665|3.1785714285714284|2.65              |3.1547619047619047|3.4302325581395348|3.2916666666666665|1.5               |\n",
            "|8      |NULL              |3.3333333333333335|3.5454545454545454|5.0               |4.25              |3.2083333333333335|3.888888888888889 |NULL             |3.789473684210526 |3.25              |NULL     |4.5               |4.5               |5.0               |4.0               |3.5               |3.25              |3.75              |3.6666666666666665|3.0               |\n",
            "|9      |NULL              |3.125             |3.8               |4.0               |4.0               |3.6666666666666665|3.142857142857143 |NULL             |3.4285714285714284|5.0               |4.0      |1.8               |3.0               |3.0               |4.0               |3.1666666666666665|3.0               |2.5454545454545454|3.5               |4.0               |\n",
            "|10     |NULL              |3.5               |3.5806451612903225|3.8666666666666667|3.607142857142857 |3.2658227848101267|3.1153846153846154|NULL             |3.1527777777777777|3.4411764705882355|NULL     |1.75              |3.361111111111111 |3.3333333333333335|2.1666666666666665|3.3333333333333335|2.0               |3.076923076923077 |3.75              |NULL              |\n",
            "+-------+------------------+------------------+------------------+------------------+------------------+------------------+------------------+-----------------+------------------+------------------+---------+------------------+------------------+------------------+------------------+------------------+------------------+------------------+------------------+------------------+\n",
            "only showing top 10 rows\n",
            "\n"
          ]
        }
      ],
      "source": [
        "# Join và tính trung bình rating theo genres và userId\n",
        "joinCau3 = ratingDF.join(movieDF, on=['movie_id'], how=\"inner\")\n",
        "cau3 = joinCau3.withColumn(\"Genre\", explode(split(\"genres\", \"\\|\")))\n",
        "result_cau3 = cau3.groupBy(\"user_id\", \"Genre\").agg(avg(\"rating\").alias(\"avg_rating\"))\n",
        "result_cau3 = result_cau3.groupBy(\"user_id\").pivot(\"Genre\").avg(\"avg_rating\")\n",
        "# Sắp xếp theo userId và hiển thị 100 dòng mà không truncate\n",
        "sorted_cau3 = result_cau3.orderBy(\"user_id\")\n",
        "sorted_cau3.show(10, truncate=False)\n"
      ]
    },
    {
      "cell_type": "markdown",
      "metadata": {
        "id": "sUu9_y-pjT5j"
      },
      "source": [
        "**Câu 4 :Với mỗi phim, xuất ra tên, năm, số lượng ratings, và điểm rating trung bình (từ mọi users) cho bộ phim đó. Kết quả\n",
        "được sắp xếp theo năm, sau đó theo tên phim như sau: (2 điểm)**"
      ]
    },
    {
      "cell_type": "code",
      "execution_count": 21,
      "metadata": {
        "colab": {
          "base_uri": "https://localhost:8080/"
        },
        "id": "wAxK-rSjjvBS",
        "outputId": "b78769c6-315e-46a9-8c17-e66bdbfe566a"
      },
      "outputs": [
        {
          "name": "stdout",
          "output_type": "stream",
          "text": [
            "+----+---------------------------------+----------+--------------+\n",
            "|Year|Movie_name                       |Num_rating|Average_rating|\n",
            "+----+---------------------------------+----------+--------------+\n",
            "|    |Babylon 5                        |2         |2.25          |\n",
            "|    |Black Mirror                     |1         |5.0           |\n",
            "|    |Cosmos                           |2         |4.5           |\n",
            "|    |Death Note: Desu nôto (2006–2007)|1         |5.0           |\n",
            "|    |Generation Iron 2                |1         |3.5           |\n",
            "|    |Hyena Road                       |1         |2.0           |\n",
            "|    |Maria Bamford: Old Baby          |1         |1.0           |\n",
            "|    |Moonlight                        |1         |5.0           |\n",
            "|    |Nocturnal Animals                |1         |3.0           |\n",
            "|    |Paterson                         |1         |4.5           |\n",
            "+----+---------------------------------+----------+--------------+\n",
            "only showing top 10 rows\n",
            "\n"
          ]
        }
      ],
      "source": [
        "cau4 = movieDF.join(ratingDF, on='movie_id', how='inner')\n",
        "resultDF = cau4.groupBy('title', 'genres', 'movie_id').agg(\n",
        "    f.count('rating').alias('Num_rating'),\n",
        "    f.avg('rating').alias('Average_rating')\n",
        ")\n",
        "resultDF = resultDF.withColumn('Year', f.regexp_extract('title', r'\\((\\d{4})\\)', 1))\n",
        "resultDF = resultDF.select('Year', 'title', 'Num_rating', 'Average_rating').withColumnRenamed('title', 'Movie_name') \\\n",
        "    .orderBy(['Year', 'title'])\n",
        "resultDF.show(10, truncate=False)"
      ]
    }
  ],
  "metadata": {
    "colab": {
      "provenance": []
    },
    "kernelspec": {
      "display_name": "Python 3",
      "name": "python3"
    },
    "language_info": {
      "name": "python"
    }
  },
  "nbformat": 4,
  "nbformat_minor": 0
}
