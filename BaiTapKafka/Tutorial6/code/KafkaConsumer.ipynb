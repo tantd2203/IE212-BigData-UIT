{
 "cells": [
  {
   "cell_type": "code",
   "outputs": [
    {
     "name": "stdout",
     "output_type": "stream",
     "text": [
      "Requirement already satisfied: findspark in d:\\udemy\\tutorial6\\.venv\\lib\\site-packages (2.0.1)\n"
     ]
    }
   ],
   "source": [
    "!pip install findspark"
   ],
   "metadata": {
    "collapsed": false,
    "ExecuteTime": {
     "end_time": "2024-05-21T05:14:20.745774Z",
     "start_time": "2024-05-21T05:14:19.253192Z"
    }
   },
   "id": "f4afe83178018601",
   "execution_count": 22
  },
  {
   "cell_type": "code",
   "outputs": [
    {
     "name": "stdout",
     "output_type": "stream",
     "text": [
      "Collecting Pandas\n",
      "  Using cached pandas-2.2.2-cp311-cp311-win_amd64.whl.metadata (19 kB)\n",
      "Collecting numpy>=1.23.2 (from Pandas)\n",
      "  Using cached numpy-1.26.4-cp311-cp311-win_amd64.whl.metadata (61 kB)\n",
      "Requirement already satisfied: python-dateutil>=2.8.2 in d:\\udemy\\tutorial6\\.venv\\lib\\site-packages (from Pandas) (2.9.0.post0)\n",
      "Collecting pytz>=2020.1 (from Pandas)\n",
      "  Using cached pytz-2024.1-py2.py3-none-any.whl.metadata (22 kB)\n",
      "Collecting tzdata>=2022.7 (from Pandas)\n",
      "  Using cached tzdata-2024.1-py2.py3-none-any.whl.metadata (1.4 kB)\n",
      "Requirement already satisfied: six>=1.5 in d:\\udemy\\tutorial6\\.venv\\lib\\site-packages (from python-dateutil>=2.8.2->Pandas) (1.16.0)\n",
      "Using cached pandas-2.2.2-cp311-cp311-win_amd64.whl (11.6 MB)\n",
      "Using cached numpy-1.26.4-cp311-cp311-win_amd64.whl (15.8 MB)\n",
      "Using cached pytz-2024.1-py2.py3-none-any.whl (505 kB)\n",
      "Using cached tzdata-2024.1-py2.py3-none-any.whl (345 kB)\n",
      "Installing collected packages: pytz, tzdata, numpy, Pandas\n",
      "Successfully installed Pandas-2.2.2 numpy-1.26.4 pytz-2024.1 tzdata-2024.1\n"
     ]
    }
   ],
   "source": [
    "!pip install Pandas"
   ],
   "metadata": {
    "collapsed": false,
    "ExecuteTime": {
     "end_time": "2024-05-21T04:50:18.973331Z",
     "start_time": "2024-05-21T04:49:41.124178Z"
    }
   },
   "id": "b3df742940ea6b9a",
   "execution_count": 2
  },
  {
   "cell_type": "code",
   "outputs": [
    {
     "data": {
      "text/plain": "<pyspark.sql.session.SparkSession at 0x185ae561490>",
      "text/html": "\n            <div>\n                <p><b>SparkSession - in-memory</b></p>\n                \n        <div>\n            <p><b>SparkContext</b></p>\n\n            <p><a href=\"http://host.docker.internal:4040\">Spark UI</a></p>\n\n            <dl>\n              <dt>Version</dt>\n                <dd><code>v3.5.0</code></dd>\n              <dt>Master</dt>\n                <dd><code>local</code></dd>\n              <dt>AppName</dt>\n                <dd><code>kafka-example</code></dd>\n            </dl>\n        </div>\n        \n            </div>\n        "
     },
     "execution_count": 23,
     "metadata": {},
     "output_type": "execute_result"
    }
   ],
   "source": [
    "import findspark\n",
    "\n",
    "findspark.init()\n",
    "\n",
    "from pyspark.sql import SparkSession\n",
    "\n",
    "scala_version = '2.12'  # your scala version\n",
    "spark_version = '3.5.0'  # your spark version\n",
    "packages = [\n",
    "    f'org.apache.spark:spark-sql-kafka-0-10_{scala_version}:{spark_version}',\n",
    "    'org.apache.kafka:kafka-clients:3.6.0'  #your kafka version\n",
    "]\n",
    "spark = SparkSession.builder.master(\"local\").appName(\"kafka-example\").config(\"spark.jars.packages\",\n",
    "                                                                             \",\".join(packages)).getOrCreate()\n",
    "spark"
   ],
   "metadata": {
    "collapsed": true,
    "ExecuteTime": {
     "end_time": "2024-05-21T05:21:27.087212Z",
     "start_time": "2024-05-21T05:21:27.073484Z"
    }
   },
   "id": "initial_id",
   "execution_count": 23
  },
  {
   "cell_type": "code",
   "outputs": [],
   "source": [
    "topic_name = 'RandomNumber'\n",
    "kafka_server = 'localhost:29092'\n",
    "kafkaDf = spark.read.format(\"kafka\").option(\"kafka.bootstrap.servers\", kafka_server).option(\"subscribe\",\n",
    "                                                                                            topic_name).option(\n",
    "    \"startingOffsets\",\n",
    "    \"earliest\").load()\n"
   ],
   "metadata": {
    "collapsed": false,
    "ExecuteTime": {
     "end_time": "2024-05-21T05:21:30.113430Z",
     "start_time": "2024-05-21T05:21:30.094547Z"
    }
   },
   "id": "42bc16c707fc803c",
   "execution_count": 24
  },
  {
   "cell_type": "code",
   "outputs": [
    {
     "data": {
      "text/plain": "       key                                              value         topic  \\\n0     None  [123, 34, 110, 117, 109, 98, 101, 114, 34, 58,...  RandomNumber   \n1     None  [123, 34, 110, 117, 109, 98, 101, 114, 34, 58,...  RandomNumber   \n2     None  [123, 34, 110, 117, 109, 98, 101, 114, 34, 58,...  RandomNumber   \n3     None  [123, 34, 110, 117, 109, 98, 101, 114, 34, 58,...  RandomNumber   \n4     None  [123, 34, 110, 117, 109, 98, 101, 114, 34, 58,...  RandomNumber   \n...    ...                                                ...           ...   \n1049  None  [123, 34, 110, 117, 109, 98, 101, 114, 34, 58,...  RandomNumber   \n1050  None  [123, 34, 110, 117, 109, 98, 101, 114, 34, 58,...  RandomNumber   \n1051  None  [123, 34, 110, 117, 109, 98, 101, 114, 34, 58,...  RandomNumber   \n1052  None  [123, 34, 110, 117, 109, 98, 101, 114, 34, 58,...  RandomNumber   \n1053  None  [123, 34, 110, 117, 109, 98, 101, 114, 34, 58,...  RandomNumber   \n\n      partition  offset               timestamp  timestampType  \n0             0       0 2024-05-21 11:48:21.886              0  \n1             0       1 2024-05-21 11:48:22.886              0  \n2             0       2 2024-05-21 11:48:23.887              0  \n3             0       3 2024-05-21 11:48:24.889              0  \n4             0       4 2024-05-21 11:53:13.236              0  \n...         ...     ...                     ...            ...  \n1049          0    1049 2024-05-21 12:21:27.504              0  \n1050          0    1050 2024-05-21 12:21:28.507              0  \n1051          0    1051 2024-05-21 12:21:29.508              0  \n1052          0    1052 2024-05-21 12:21:30.515              0  \n1053          0    1053 2024-05-21 12:21:31.517              0  \n\n[1054 rows x 7 columns]",
      "text/html": "<div>\n<style scoped>\n    .dataframe tbody tr th:only-of-type {\n        vertical-align: middle;\n    }\n\n    .dataframe tbody tr th {\n        vertical-align: top;\n    }\n\n    .dataframe thead th {\n        text-align: right;\n    }\n</style>\n<table border=\"1\" class=\"dataframe\">\n  <thead>\n    <tr style=\"text-align: right;\">\n      <th></th>\n      <th>key</th>\n      <th>value</th>\n      <th>topic</th>\n      <th>partition</th>\n      <th>offset</th>\n      <th>timestamp</th>\n      <th>timestampType</th>\n    </tr>\n  </thead>\n  <tbody>\n    <tr>\n      <th>0</th>\n      <td>None</td>\n      <td>[123, 34, 110, 117, 109, 98, 101, 114, 34, 58,...</td>\n      <td>RandomNumber</td>\n      <td>0</td>\n      <td>0</td>\n      <td>2024-05-21 11:48:21.886</td>\n      <td>0</td>\n    </tr>\n    <tr>\n      <th>1</th>\n      <td>None</td>\n      <td>[123, 34, 110, 117, 109, 98, 101, 114, 34, 58,...</td>\n      <td>RandomNumber</td>\n      <td>0</td>\n      <td>1</td>\n      <td>2024-05-21 11:48:22.886</td>\n      <td>0</td>\n    </tr>\n    <tr>\n      <th>2</th>\n      <td>None</td>\n      <td>[123, 34, 110, 117, 109, 98, 101, 114, 34, 58,...</td>\n      <td>RandomNumber</td>\n      <td>0</td>\n      <td>2</td>\n      <td>2024-05-21 11:48:23.887</td>\n      <td>0</td>\n    </tr>\n    <tr>\n      <th>3</th>\n      <td>None</td>\n      <td>[123, 34, 110, 117, 109, 98, 101, 114, 34, 58,...</td>\n      <td>RandomNumber</td>\n      <td>0</td>\n      <td>3</td>\n      <td>2024-05-21 11:48:24.889</td>\n      <td>0</td>\n    </tr>\n    <tr>\n      <th>4</th>\n      <td>None</td>\n      <td>[123, 34, 110, 117, 109, 98, 101, 114, 34, 58,...</td>\n      <td>RandomNumber</td>\n      <td>0</td>\n      <td>4</td>\n      <td>2024-05-21 11:53:13.236</td>\n      <td>0</td>\n    </tr>\n    <tr>\n      <th>...</th>\n      <td>...</td>\n      <td>...</td>\n      <td>...</td>\n      <td>...</td>\n      <td>...</td>\n      <td>...</td>\n      <td>...</td>\n    </tr>\n    <tr>\n      <th>1049</th>\n      <td>None</td>\n      <td>[123, 34, 110, 117, 109, 98, 101, 114, 34, 58,...</td>\n      <td>RandomNumber</td>\n      <td>0</td>\n      <td>1049</td>\n      <td>2024-05-21 12:21:27.504</td>\n      <td>0</td>\n    </tr>\n    <tr>\n      <th>1050</th>\n      <td>None</td>\n      <td>[123, 34, 110, 117, 109, 98, 101, 114, 34, 58,...</td>\n      <td>RandomNumber</td>\n      <td>0</td>\n      <td>1050</td>\n      <td>2024-05-21 12:21:28.507</td>\n      <td>0</td>\n    </tr>\n    <tr>\n      <th>1051</th>\n      <td>None</td>\n      <td>[123, 34, 110, 117, 109, 98, 101, 114, 34, 58,...</td>\n      <td>RandomNumber</td>\n      <td>0</td>\n      <td>1051</td>\n      <td>2024-05-21 12:21:29.508</td>\n      <td>0</td>\n    </tr>\n    <tr>\n      <th>1052</th>\n      <td>None</td>\n      <td>[123, 34, 110, 117, 109, 98, 101, 114, 34, 58,...</td>\n      <td>RandomNumber</td>\n      <td>0</td>\n      <td>1052</td>\n      <td>2024-05-21 12:21:30.515</td>\n      <td>0</td>\n    </tr>\n    <tr>\n      <th>1053</th>\n      <td>None</td>\n      <td>[123, 34, 110, 117, 109, 98, 101, 114, 34, 58,...</td>\n      <td>RandomNumber</td>\n      <td>0</td>\n      <td>1053</td>\n      <td>2024-05-21 12:21:31.517</td>\n      <td>0</td>\n    </tr>\n  </tbody>\n</table>\n<p>1054 rows × 7 columns</p>\n</div>"
     },
     "execution_count": 25,
     "metadata": {},
     "output_type": "execute_result"
    }
   ],
   "source": [
    "kafkaDf.toPandas()"
   ],
   "metadata": {
    "collapsed": false,
    "ExecuteTime": {
     "end_time": "2024-05-21T05:21:32.656330Z",
     "start_time": "2024-05-21T05:21:32.134439Z"
    }
   },
   "id": "eaa881c85f883165",
   "execution_count": 25
  },
  {
   "cell_type": "code",
   "outputs": [
    {
     "name": "stdout",
     "output_type": "stream",
     "text": [
      "Live view ended...\n"
     ]
    }
   ],
   "source": [
    "from pyspark.sql.functions import col\n",
    "\n",
    "batchDF = kafkaDf.select(col('topic'), col('offset'), col('value').cast('string').substr(12, 1).alias('rand_number'))\n",
    "from time import sleep\n",
    "from IPython.display import display, clear_output\n",
    "\n",
    "for x in range(0, 2000):\n",
    "    try:\n",
    "        print(\"Showing live view refreshed every 5 seconds\")\n",
    "        print(f\"Seconds passed: {x * 5}\")\n",
    "        display(batchDF.toPandas())\n",
    "        sleep(5)\n",
    "        clear_output(wait=True)\n",
    "    except KeyboardInterrupt:\n",
    "        print(\"break\")\n",
    "    break\n",
    "print(\"Live view ended...\")"
   ],
   "metadata": {
    "collapsed": false
   },
   "id": "ca7747604cbedde5",
   "execution_count": 26
  },
  {
   "cell_type": "code",
   "outputs": [
    {
     "name": "stdout",
     "output_type": "stream",
     "text": [
      "Live view ended...\n"
     ]
    }
   ],
   "source": [
    "batchCountDF = batchDF.groupBy('rand_number').count()\n",
    "for x in range(0, 2000):\n",
    "    try:\n",
    "        print(\"Showing live view refreshed every 5 seconds\")\n",
    "        print(f\"Seconds passed: {x * 5}\")\n",
    "        display(batchCountDF.toPandas())\n",
    "        sleep(100)\n",
    "        clear_output(wait=True)\n",
    "    except KeyboardInterrupt:\n",
    "        print(\"break\")\n",
    "    break\n",
    "print(\"Live view ended...\")"
   ],
   "metadata": {
    "collapsed": false
   },
   "id": "f9f58f051c4e61a9",
   "execution_count": 27
  },
  {
   "cell_type": "code",
   "outputs": [],
   "source": [],
   "metadata": {
    "collapsed": false
   },
   "id": "dfac96956d823fad"
  }
 ],
 "metadata": {
  "kernelspec": {
   "display_name": "Python 3",
   "language": "python",
   "name": "python3"
  },
  "language_info": {
   "codemirror_mode": {
    "name": "ipython",
    "version": 2
   },
   "file_extension": ".py",
   "mimetype": "text/x-python",
   "name": "python",
   "nbconvert_exporter": "python",
   "pygments_lexer": "ipython2",
   "version": "2.7.6"
  }
 },
 "nbformat": 4,
 "nbformat_minor": 5
}
