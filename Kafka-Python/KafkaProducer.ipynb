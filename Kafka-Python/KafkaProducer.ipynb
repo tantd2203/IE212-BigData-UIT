{
 "cells": [
  {
   "cell_type": "code",
   "execution_count": 1,
   "id": "initial_id",
   "metadata": {
    "collapsed": true,
    "ExecuteTime": {
     "end_time": "2024-04-17T03:46:15.479659Z",
     "start_time": "2024-04-17T03:46:11.087001Z"
    }
   },
   "outputs": [
    {
     "name": "stdout",
     "output_type": "stream",
     "text": [
      "Collecting kafka-python\n",
      "  Using cached kafka_python-2.0.2-py2.py3-none-any.whl.metadata (7.8 kB)\n",
      "Using cached kafka_python-2.0.2-py2.py3-none-any.whl (246 kB)\n",
      "Installing collected packages: kafka-python\n",
      "Successfully installed kafka-python-2.0.2\n"
     ]
    }
   ],
   "source": [
    "!pip install kafka-python"
   ]
  },
  {
   "cell_type": "code",
   "outputs": [
    {
     "name": "stdout",
     "output_type": "stream",
     "text": [
      "Collecting pyspark\n",
      "  Using cached pyspark-3.5.1-py2.py3-none-any.whl\n",
      "Collecting py4j==0.10.9.7 (from pyspark)\n",
      "  Using cached py4j-0.10.9.7-py2.py3-none-any.whl.metadata (1.5 kB)\n",
      "Using cached py4j-0.10.9.7-py2.py3-none-any.whl (200 kB)\n",
      "Installing collected packages: py4j, pyspark\n",
      "Successfully installed py4j-0.10.9.7 pyspark-3.5.1\n"
     ]
    }
   ],
   "source": [
    "!pip install pyspark\n"
   ],
   "metadata": {
    "collapsed": false,
    "ExecuteTime": {
     "end_time": "2024-04-17T03:46:47.546318Z",
     "start_time": "2024-04-17T03:46:29.786745Z"
    }
   },
   "id": "a0b29931013fa385",
   "execution_count": 2
  },
  {
   "cell_type": "code",
   "outputs": [
    {
     "name": "stdout",
     "output_type": "stream",
     "text": [
      "{'number': 0} sent\n",
      "{'number': 1} sent\n",
      "{'number': 2} sent\n",
      "{'number': 3} sent\n",
      "{'number': 4} sent\n",
      "{'number': 5} sent\n",
      "{'number': 6} sent\n",
      "{'number': 7} sent\n",
      "{'number': 8} sent\n",
      "{'number': 9} sent\n",
      "{'number': 10} sent\n",
      "{'number': 11} sent\n",
      "{'number': 12} sent\n",
      "{'number': 13} sent\n",
      "{'number': 14} sent\n",
      "{'number': 15} sent\n",
      "{'number': 16} sent\n",
      "{'number': 17} sent\n",
      "{'number': 18} sent\n"
     ]
    },
    {
     "ename": "KeyboardInterrupt",
     "evalue": "",
     "output_type": "error",
     "traceback": [
      "\u001B[1;31m---------------------------------------------------------------------------\u001B[0m",
      "\u001B[1;31mKeyboardInterrupt\u001B[0m                         Traceback (most recent call last)",
      "Cell \u001B[1;32mIn[1], line 13\u001B[0m\n\u001B[0;32m     11\u001B[0m     producer\u001B[38;5;241m.\u001B[39msend(topic_name, value\u001B[38;5;241m=\u001B[39mdata)\n\u001B[0;32m     12\u001B[0m     \u001B[38;5;28mprint\u001B[39m(\u001B[38;5;28mstr\u001B[39m(data) \u001B[38;5;241m+\u001B[39m \u001B[38;5;124m\"\u001B[39m\u001B[38;5;124m sent\u001B[39m\u001B[38;5;124m\"\u001B[39m)\n\u001B[1;32m---> 13\u001B[0m     sleep(\u001B[38;5;241m5\u001B[39m)\n\u001B[0;32m     15\u001B[0m producer\u001B[38;5;241m.\u001B[39mflush()\n",
      "\u001B[1;31mKeyboardInterrupt\u001B[0m: "
     ]
    }
   ],
   "source": [
    "from kafka import  KafkaProducer\n",
    "from json import dumps\n",
    "from time import sleep \n",
    "\n",
    "\n",
    "topic_name = 'Number'\n",
    "kafka_server = 'localhost:9092'\n",
    "producer = KafkaProducer(bootstrap_servers=kafka_server,value_serializer = lambda x:dumps(x).encode('utf-8'))\n",
    "for e  in range (1000):\n",
    "    data = {'number': e}\n",
    "    producer.send(topic_name, value=data)\n",
    "    print(str(data) + \" sent\")\n",
    "    sleep(5)\n",
    "    \n",
    "producer.flush()\n",
    "    "
   ],
   "metadata": {
    "collapsed": false,
    "ExecuteTime": {
     "end_time": "2024-05-11T05:02:46.008480Z",
     "start_time": "2024-05-11T05:01:10.186251Z"
    }
   },
   "id": "34e535ab1c7845bf",
   "execution_count": 1
  },
  {
   "cell_type": "code",
   "outputs": [],
   "source": [],
   "metadata": {
    "collapsed": false
   },
   "id": "dc2a63e687f34008"
  }
 ],
 "metadata": {
  "kernelspec": {
   "display_name": "Python 3",
   "language": "python",
   "name": "python3"
  },
  "language_info": {
   "codemirror_mode": {
    "name": "ipython",
    "version": 2
   },
   "file_extension": ".py",
   "mimetype": "text/x-python",
   "name": "python",
   "nbconvert_exporter": "python",
   "pygments_lexer": "ipython2",
   "version": "2.7.6"
  }
 },
 "nbformat": 4,
 "nbformat_minor": 5
}
