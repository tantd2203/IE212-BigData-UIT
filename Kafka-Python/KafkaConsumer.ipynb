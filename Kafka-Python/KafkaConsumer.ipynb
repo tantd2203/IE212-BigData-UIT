{
 "cells": [
  {
   "cell_type": "code",
   "execution_count": 1,
   "id": "initial_id",
   "metadata": {
    "collapsed": true,
    "ExecuteTime": {
     "end_time": "2024-04-17T03:52:09.444533Z",
     "start_time": "2024-04-17T03:52:06.997942Z"
    }
   },
   "outputs": [
    {
     "name": "stdout",
     "output_type": "stream",
     "text": [
      "Collecting spark\n",
      "  Using cached spark-0.2.1-py3-none-any.whl\n",
      "Installing collected packages: spark\n",
      "Successfully installed spark-0.2.1\n"
     ]
    }
   ],
   "source": [
    "! pip install spark\n"
   ]
  },
  {
   "cell_type": "code",
   "outputs": [
    {
     "name": "stdout",
     "output_type": "stream",
     "text": [
      "Requirement already satisfied: kafka-python in d:\\uit\\bigdata\\ie212-bigdata-uit\\kafka-python\\.venv\\lib\\site-packages (2.0.2)\n"
     ]
    }
   ],
   "source": [
    "!pip install kafka-python"
   ],
   "metadata": {
    "collapsed": false,
    "ExecuteTime": {
     "end_time": "2024-04-17T04:15:39.065024Z",
     "start_time": "2024-04-17T04:15:37.399688Z"
    }
   },
   "id": "f412213ba713a765",
   "execution_count": 9
  },
  {
   "cell_type": "code",
   "outputs": [
    {
     "name": "stdout",
     "output_type": "stream",
     "text": [
      "Collecting findspark\n",
      "  Using cached findspark-2.0.1-py2.py3-none-any.whl.metadata (352 bytes)\n",
      "Using cached findspark-2.0.1-py2.py3-none-any.whl (4.4 kB)\n",
      "Installing collected packages: findspark\n",
      "Successfully installed findspark-2.0.1\n"
     ]
    }
   ],
   "source": [
    "!pip install findspark"
   ],
   "metadata": {
    "collapsed": false,
    "ExecuteTime": {
     "end_time": "2024-04-17T03:52:37.368818Z",
     "start_time": "2024-04-17T03:52:35.442909Z"
    }
   },
   "id": "3f293339246473fe",
   "execution_count": 2
  },
  {
   "cell_type": "code",
   "outputs": [
    {
     "name": "stdout",
     "output_type": "stream",
     "text": [
      "Collecting Pandas\n",
      "  Using cached pandas-2.2.2-cp311-cp311-win_amd64.whl.metadata (19 kB)\n",
      "Collecting numpy>=1.23.2 (from Pandas)\n",
      "  Using cached numpy-1.26.4-cp311-cp311-win_amd64.whl.metadata (61 kB)\n",
      "Requirement already satisfied: python-dateutil>=2.8.2 in d:\\uit\\bigdata\\ie212-bigdata-uit\\kafka-python\\.venv\\lib\\site-packages (from Pandas) (2.9.0.post0)\n",
      "Collecting pytz>=2020.1 (from Pandas)\n",
      "  Using cached pytz-2024.1-py2.py3-none-any.whl.metadata (22 kB)\n",
      "Collecting tzdata>=2022.7 (from Pandas)\n",
      "  Using cached tzdata-2024.1-py2.py3-none-any.whl.metadata (1.4 kB)\n",
      "Requirement already satisfied: six>=1.5 in d:\\uit\\bigdata\\ie212-bigdata-uit\\kafka-python\\.venv\\lib\\site-packages (from python-dateutil>=2.8.2->Pandas) (1.16.0)\n",
      "Using cached pandas-2.2.2-cp311-cp311-win_amd64.whl (11.6 MB)\n",
      "Using cached numpy-1.26.4-cp311-cp311-win_amd64.whl (15.8 MB)\n",
      "Using cached pytz-2024.1-py2.py3-none-any.whl (505 kB)\n",
      "Using cached tzdata-2024.1-py2.py3-none-any.whl (345 kB)\n",
      "Installing collected packages: pytz, tzdata, numpy, Pandas\n",
      "Successfully installed Pandas-2.2.2 numpy-1.26.4 pytz-2024.1 tzdata-2024.1\n"
     ]
    }
   ],
   "source": [
    "!pip install Pandas"
   ],
   "metadata": {
    "collapsed": false,
    "ExecuteTime": {
     "end_time": "2024-04-17T04:15:20.423693Z",
     "start_time": "2024-04-17T04:14:47.251936Z"
    }
   },
   "id": "aa90278e38dc86eb",
   "execution_count": 8
  },
  {
   "cell_type": "code",
   "outputs": [
    {
     "data": {
      "text/plain": "<pyspark.sql.session.SparkSession at 0x19b821acb10>",
      "text/html": "\n            <div>\n                <p><b>SparkSession - in-memory</b></p>\n                \n        <div>\n            <p><b>SparkContext</b></p>\n\n            <p><a href=\"http://DESKTOP-VIFGORN:4040\">Spark UI</a></p>\n\n            <dl>\n              <dt>Version</dt>\n                <dd><code>v3.5.0</code></dd>\n              <dt>Master</dt>\n                <dd><code>local</code></dd>\n              <dt>AppName</dt>\n                <dd><code>kafka-example</code></dd>\n            </dl>\n        </div>\n        \n            </div>\n        "
     },
     "execution_count": 5,
     "metadata": {},
     "output_type": "execute_result"
    }
   ],
   "source": [
    "import findspark\n",
    "findspark.init()\n",
    "\n",
    "from pyspark.sql import SparkSession\n",
    "\n",
    "scala_version = '2.12'  # your scala version\n",
    "spark_version = '3.5.0' # your spark version\n",
    "packages = [\n",
    "    f'org.apache.spark:spark-sql-kafka-0-10_{scala_version}:{spark_version}',\n",
    "    'org.apache.kafka:kafka-clients:3.6.0' #your kafka version\n",
    "]\n",
    "spark = SparkSession.builder.master(\"local\").appName(\"kafka-example\").config(\"spark.jars.packages\", \",\".join(packages)).getOrCreate()\n",
    "spark"
   ],
   "metadata": {
    "collapsed": false,
    "ExecuteTime": {
     "end_time": "2024-04-17T04:09:38.617795Z",
     "start_time": "2024-04-17T04:09:38.559405Z"
    }
   },
   "id": "6c53d2ff4e97e71d",
   "execution_count": 5
  },
  {
   "cell_type": "code",
   "outputs": [],
   "source": [
    "topic_name = 'RandomNumber'\n",
    "kafka_server = 'localhost:9092'\n",
    "kafkaDf = spark.read.format(\"kafka\").option(\"kafka.bootstrap.servers\", kafka_server).option(\"subscribe\", topic_name).option(\"startingOffsets\",\n",
    "\"earliest\").load()"
   ],
   "metadata": {
    "collapsed": false,
    "ExecuteTime": {
     "end_time": "2024-04-17T04:13:11.644145Z",
     "start_time": "2024-04-17T04:13:11.515230Z"
    }
   },
   "id": "25bee62ecd1ddb62",
   "execution_count": 6
  },
  {
   "cell_type": "code",
   "outputs": [],
   "source": [],
   "metadata": {
    "collapsed": false,
    "ExecuteTime": {
     "end_time": "2024-04-17T04:13:49.112635Z",
     "start_time": "2024-04-17T04:13:49.109466Z"
    }
   },
   "id": "157fff2a56029a38",
   "execution_count": 6
  },
  {
   "cell_type": "code",
   "outputs": [
    {
     "data": {
      "text/plain": "     key                                              value         topic  \\\n0   None  [123, 34, 110, 117, 109, 98, 101, 114, 34, 58,...  RandomNumber   \n1   None  [123, 34, 110, 117, 109, 98, 101, 114, 34, 58,...  RandomNumber   \n2   None  [123, 34, 110, 117, 109, 98, 101, 114, 34, 58,...  RandomNumber   \n3   None  [123, 34, 110, 117, 109, 98, 101, 114, 34, 58,...  RandomNumber   \n4   None  [123, 34, 110, 117, 109, 98, 101, 114, 34, 58,...  RandomNumber   \n5   None  [123, 34, 110, 117, 109, 98, 101, 114, 34, 58,...  RandomNumber   \n6   None  [123, 34, 110, 117, 109, 98, 101, 114, 34, 58,...  RandomNumber   \n7   None  [123, 34, 110, 117, 109, 98, 101, 114, 34, 58,...  RandomNumber   \n8   None  [123, 34, 110, 117, 109, 98, 101, 114, 34, 58,...  RandomNumber   \n9   None  [123, 34, 110, 117, 109, 98, 101, 114, 34, 58,...  RandomNumber   \n10  None  [123, 34, 110, 117, 109, 98, 101, 114, 34, 58,...  RandomNumber   \n11  None  [123, 34, 110, 117, 109, 98, 101, 114, 34, 58,...  RandomNumber   \n12  None  [123, 34, 110, 117, 109, 98, 101, 114, 34, 58,...  RandomNumber   \n13  None  [123, 34, 110, 117, 109, 98, 101, 114, 34, 58,...  RandomNumber   \n14  None  [123, 34, 110, 117, 109, 98, 101, 114, 34, 58,...  RandomNumber   \n15  None  [123, 34, 110, 117, 109, 98, 101, 114, 34, 58,...  RandomNumber   \n16  None  [123, 34, 110, 117, 109, 98, 101, 114, 34, 58,...  RandomNumber   \n17  None  [123, 34, 110, 117, 109, 98, 101, 114, 34, 58,...  RandomNumber   \n18  None  [123, 34, 110, 117, 109, 98, 101, 114, 34, 58,...  RandomNumber   \n19  None  [123, 34, 110, 117, 109, 98, 101, 114, 34, 58,...  RandomNumber   \n20  None  [123, 34, 110, 117, 109, 98, 101, 114, 34, 58,...  RandomNumber   \n21  None  [123, 34, 110, 117, 109, 98, 101, 114, 34, 58,...  RandomNumber   \n22  None  [123, 34, 110, 117, 109, 98, 101, 114, 34, 58,...  RandomNumber   \n23  None  [123, 34, 110, 117, 109, 98, 101, 114, 34, 58,...  RandomNumber   \n24  None  [123, 34, 110, 117, 109, 98, 101, 114, 34, 58,...  RandomNumber   \n25  None  [123, 34, 110, 117, 109, 98, 101, 114, 34, 58,...  RandomNumber   \n26  None  [123, 34, 110, 117, 109, 98, 101, 114, 34, 58,...  RandomNumber   \n27  None  [123, 34, 110, 117, 109, 98, 101, 114, 34, 58,...  RandomNumber   \n28  None  [123, 34, 110, 117, 109, 98, 101, 114, 34, 58,...  RandomNumber   \n29  None  [123, 34, 110, 117, 109, 98, 101, 114, 34, 58,...  RandomNumber   \n30  None  [123, 34, 110, 117, 109, 98, 101, 114, 34, 58,...  RandomNumber   \n31  None  [123, 34, 110, 117, 109, 98, 101, 114, 34, 58,...  RandomNumber   \n32  None  [123, 34, 110, 117, 109, 98, 101, 114, 34, 58,...  RandomNumber   \n\n    partition  offset               timestamp  timestampType  \n0           0       0 2024-04-13 14:31:47.036              0  \n1           0       1 2024-04-13 14:31:52.037              0  \n2           0       2 2024-04-13 14:31:57.039              0  \n3           0       3 2024-04-13 14:32:02.040              0  \n4           0       4 2024-04-13 14:32:07.042              0  \n5           0       5 2024-04-13 14:32:12.043              0  \n6           0       6 2024-04-13 14:32:17.045              0  \n7           0       7 2024-04-13 14:32:22.048              0  \n8           0       8 2024-04-13 14:32:27.049              0  \n9           0       9 2024-04-13 14:32:32.050              0  \n10          0      10 2024-04-13 14:32:37.052              0  \n11          0      11 2024-04-13 14:32:42.053              0  \n12          0      12 2024-04-13 14:32:47.055              0  \n13          0      13 2024-04-13 14:32:52.059              0  \n14          0      14 2024-04-13 14:32:57.060              0  \n15          0      15 2024-04-13 14:46:53.510              0  \n16          0      16 2024-04-13 14:46:58.513              0  \n17          0      17 2024-04-13 14:47:03.520              0  \n18          0      18 2024-04-13 14:47:08.525              0  \n19          0      19 2024-04-13 14:47:13.526              0  \n20          0      20 2024-04-13 14:47:18.541              0  \n21          0      21 2024-04-13 14:47:23.570              0  \n22          0      22 2024-04-13 14:47:28.579              0  \n23          0      23 2024-04-13 14:47:33.586              0  \n24          0      24 2024-04-13 14:47:38.619              0  \n25          0      25 2024-04-13 14:47:43.828              0  \n26          0      26 2024-04-13 14:47:48.893              0  \n27          0      27 2024-04-13 14:47:53.909              0  \n28          0      28 2024-04-13 14:47:58.914              0  \n29          0      29 2024-04-13 14:48:03.939              0  \n30          0      30 2024-04-13 14:48:08.955              0  \n31          0      31 2024-04-13 14:48:14.042              0  \n32          0      32 2024-04-13 14:48:19.048              0  ",
      "text/html": "<div>\n<style scoped>\n    .dataframe tbody tr th:only-of-type {\n        vertical-align: middle;\n    }\n\n    .dataframe tbody tr th {\n        vertical-align: top;\n    }\n\n    .dataframe thead th {\n        text-align: right;\n    }\n</style>\n<table border=\"1\" class=\"dataframe\">\n  <thead>\n    <tr style=\"text-align: right;\">\n      <th></th>\n      <th>key</th>\n      <th>value</th>\n      <th>topic</th>\n      <th>partition</th>\n      <th>offset</th>\n      <th>timestamp</th>\n      <th>timestampType</th>\n    </tr>\n  </thead>\n  <tbody>\n    <tr>\n      <th>0</th>\n      <td>None</td>\n      <td>[123, 34, 110, 117, 109, 98, 101, 114, 34, 58,...</td>\n      <td>RandomNumber</td>\n      <td>0</td>\n      <td>0</td>\n      <td>2024-04-13 14:31:47.036</td>\n      <td>0</td>\n    </tr>\n    <tr>\n      <th>1</th>\n      <td>None</td>\n      <td>[123, 34, 110, 117, 109, 98, 101, 114, 34, 58,...</td>\n      <td>RandomNumber</td>\n      <td>0</td>\n      <td>1</td>\n      <td>2024-04-13 14:31:52.037</td>\n      <td>0</td>\n    </tr>\n    <tr>\n      <th>2</th>\n      <td>None</td>\n      <td>[123, 34, 110, 117, 109, 98, 101, 114, 34, 58,...</td>\n      <td>RandomNumber</td>\n      <td>0</td>\n      <td>2</td>\n      <td>2024-04-13 14:31:57.039</td>\n      <td>0</td>\n    </tr>\n    <tr>\n      <th>3</th>\n      <td>None</td>\n      <td>[123, 34, 110, 117, 109, 98, 101, 114, 34, 58,...</td>\n      <td>RandomNumber</td>\n      <td>0</td>\n      <td>3</td>\n      <td>2024-04-13 14:32:02.040</td>\n      <td>0</td>\n    </tr>\n    <tr>\n      <th>4</th>\n      <td>None</td>\n      <td>[123, 34, 110, 117, 109, 98, 101, 114, 34, 58,...</td>\n      <td>RandomNumber</td>\n      <td>0</td>\n      <td>4</td>\n      <td>2024-04-13 14:32:07.042</td>\n      <td>0</td>\n    </tr>\n    <tr>\n      <th>5</th>\n      <td>None</td>\n      <td>[123, 34, 110, 117, 109, 98, 101, 114, 34, 58,...</td>\n      <td>RandomNumber</td>\n      <td>0</td>\n      <td>5</td>\n      <td>2024-04-13 14:32:12.043</td>\n      <td>0</td>\n    </tr>\n    <tr>\n      <th>6</th>\n      <td>None</td>\n      <td>[123, 34, 110, 117, 109, 98, 101, 114, 34, 58,...</td>\n      <td>RandomNumber</td>\n      <td>0</td>\n      <td>6</td>\n      <td>2024-04-13 14:32:17.045</td>\n      <td>0</td>\n    </tr>\n    <tr>\n      <th>7</th>\n      <td>None</td>\n      <td>[123, 34, 110, 117, 109, 98, 101, 114, 34, 58,...</td>\n      <td>RandomNumber</td>\n      <td>0</td>\n      <td>7</td>\n      <td>2024-04-13 14:32:22.048</td>\n      <td>0</td>\n    </tr>\n    <tr>\n      <th>8</th>\n      <td>None</td>\n      <td>[123, 34, 110, 117, 109, 98, 101, 114, 34, 58,...</td>\n      <td>RandomNumber</td>\n      <td>0</td>\n      <td>8</td>\n      <td>2024-04-13 14:32:27.049</td>\n      <td>0</td>\n    </tr>\n    <tr>\n      <th>9</th>\n      <td>None</td>\n      <td>[123, 34, 110, 117, 109, 98, 101, 114, 34, 58,...</td>\n      <td>RandomNumber</td>\n      <td>0</td>\n      <td>9</td>\n      <td>2024-04-13 14:32:32.050</td>\n      <td>0</td>\n    </tr>\n    <tr>\n      <th>10</th>\n      <td>None</td>\n      <td>[123, 34, 110, 117, 109, 98, 101, 114, 34, 58,...</td>\n      <td>RandomNumber</td>\n      <td>0</td>\n      <td>10</td>\n      <td>2024-04-13 14:32:37.052</td>\n      <td>0</td>\n    </tr>\n    <tr>\n      <th>11</th>\n      <td>None</td>\n      <td>[123, 34, 110, 117, 109, 98, 101, 114, 34, 58,...</td>\n      <td>RandomNumber</td>\n      <td>0</td>\n      <td>11</td>\n      <td>2024-04-13 14:32:42.053</td>\n      <td>0</td>\n    </tr>\n    <tr>\n      <th>12</th>\n      <td>None</td>\n      <td>[123, 34, 110, 117, 109, 98, 101, 114, 34, 58,...</td>\n      <td>RandomNumber</td>\n      <td>0</td>\n      <td>12</td>\n      <td>2024-04-13 14:32:47.055</td>\n      <td>0</td>\n    </tr>\n    <tr>\n      <th>13</th>\n      <td>None</td>\n      <td>[123, 34, 110, 117, 109, 98, 101, 114, 34, 58,...</td>\n      <td>RandomNumber</td>\n      <td>0</td>\n      <td>13</td>\n      <td>2024-04-13 14:32:52.059</td>\n      <td>0</td>\n    </tr>\n    <tr>\n      <th>14</th>\n      <td>None</td>\n      <td>[123, 34, 110, 117, 109, 98, 101, 114, 34, 58,...</td>\n      <td>RandomNumber</td>\n      <td>0</td>\n      <td>14</td>\n      <td>2024-04-13 14:32:57.060</td>\n      <td>0</td>\n    </tr>\n    <tr>\n      <th>15</th>\n      <td>None</td>\n      <td>[123, 34, 110, 117, 109, 98, 101, 114, 34, 58,...</td>\n      <td>RandomNumber</td>\n      <td>0</td>\n      <td>15</td>\n      <td>2024-04-13 14:46:53.510</td>\n      <td>0</td>\n    </tr>\n    <tr>\n      <th>16</th>\n      <td>None</td>\n      <td>[123, 34, 110, 117, 109, 98, 101, 114, 34, 58,...</td>\n      <td>RandomNumber</td>\n      <td>0</td>\n      <td>16</td>\n      <td>2024-04-13 14:46:58.513</td>\n      <td>0</td>\n    </tr>\n    <tr>\n      <th>17</th>\n      <td>None</td>\n      <td>[123, 34, 110, 117, 109, 98, 101, 114, 34, 58,...</td>\n      <td>RandomNumber</td>\n      <td>0</td>\n      <td>17</td>\n      <td>2024-04-13 14:47:03.520</td>\n      <td>0</td>\n    </tr>\n    <tr>\n      <th>18</th>\n      <td>None</td>\n      <td>[123, 34, 110, 117, 109, 98, 101, 114, 34, 58,...</td>\n      <td>RandomNumber</td>\n      <td>0</td>\n      <td>18</td>\n      <td>2024-04-13 14:47:08.525</td>\n      <td>0</td>\n    </tr>\n    <tr>\n      <th>19</th>\n      <td>None</td>\n      <td>[123, 34, 110, 117, 109, 98, 101, 114, 34, 58,...</td>\n      <td>RandomNumber</td>\n      <td>0</td>\n      <td>19</td>\n      <td>2024-04-13 14:47:13.526</td>\n      <td>0</td>\n    </tr>\n    <tr>\n      <th>20</th>\n      <td>None</td>\n      <td>[123, 34, 110, 117, 109, 98, 101, 114, 34, 58,...</td>\n      <td>RandomNumber</td>\n      <td>0</td>\n      <td>20</td>\n      <td>2024-04-13 14:47:18.541</td>\n      <td>0</td>\n    </tr>\n    <tr>\n      <th>21</th>\n      <td>None</td>\n      <td>[123, 34, 110, 117, 109, 98, 101, 114, 34, 58,...</td>\n      <td>RandomNumber</td>\n      <td>0</td>\n      <td>21</td>\n      <td>2024-04-13 14:47:23.570</td>\n      <td>0</td>\n    </tr>\n    <tr>\n      <th>22</th>\n      <td>None</td>\n      <td>[123, 34, 110, 117, 109, 98, 101, 114, 34, 58,...</td>\n      <td>RandomNumber</td>\n      <td>0</td>\n      <td>22</td>\n      <td>2024-04-13 14:47:28.579</td>\n      <td>0</td>\n    </tr>\n    <tr>\n      <th>23</th>\n      <td>None</td>\n      <td>[123, 34, 110, 117, 109, 98, 101, 114, 34, 58,...</td>\n      <td>RandomNumber</td>\n      <td>0</td>\n      <td>23</td>\n      <td>2024-04-13 14:47:33.586</td>\n      <td>0</td>\n    </tr>\n    <tr>\n      <th>24</th>\n      <td>None</td>\n      <td>[123, 34, 110, 117, 109, 98, 101, 114, 34, 58,...</td>\n      <td>RandomNumber</td>\n      <td>0</td>\n      <td>24</td>\n      <td>2024-04-13 14:47:38.619</td>\n      <td>0</td>\n    </tr>\n    <tr>\n      <th>25</th>\n      <td>None</td>\n      <td>[123, 34, 110, 117, 109, 98, 101, 114, 34, 58,...</td>\n      <td>RandomNumber</td>\n      <td>0</td>\n      <td>25</td>\n      <td>2024-04-13 14:47:43.828</td>\n      <td>0</td>\n    </tr>\n    <tr>\n      <th>26</th>\n      <td>None</td>\n      <td>[123, 34, 110, 117, 109, 98, 101, 114, 34, 58,...</td>\n      <td>RandomNumber</td>\n      <td>0</td>\n      <td>26</td>\n      <td>2024-04-13 14:47:48.893</td>\n      <td>0</td>\n    </tr>\n    <tr>\n      <th>27</th>\n      <td>None</td>\n      <td>[123, 34, 110, 117, 109, 98, 101, 114, 34, 58,...</td>\n      <td>RandomNumber</td>\n      <td>0</td>\n      <td>27</td>\n      <td>2024-04-13 14:47:53.909</td>\n      <td>0</td>\n    </tr>\n    <tr>\n      <th>28</th>\n      <td>None</td>\n      <td>[123, 34, 110, 117, 109, 98, 101, 114, 34, 58,...</td>\n      <td>RandomNumber</td>\n      <td>0</td>\n      <td>28</td>\n      <td>2024-04-13 14:47:58.914</td>\n      <td>0</td>\n    </tr>\n    <tr>\n      <th>29</th>\n      <td>None</td>\n      <td>[123, 34, 110, 117, 109, 98, 101, 114, 34, 58,...</td>\n      <td>RandomNumber</td>\n      <td>0</td>\n      <td>29</td>\n      <td>2024-04-13 14:48:03.939</td>\n      <td>0</td>\n    </tr>\n    <tr>\n      <th>30</th>\n      <td>None</td>\n      <td>[123, 34, 110, 117, 109, 98, 101, 114, 34, 58,...</td>\n      <td>RandomNumber</td>\n      <td>0</td>\n      <td>30</td>\n      <td>2024-04-13 14:48:08.955</td>\n      <td>0</td>\n    </tr>\n    <tr>\n      <th>31</th>\n      <td>None</td>\n      <td>[123, 34, 110, 117, 109, 98, 101, 114, 34, 58,...</td>\n      <td>RandomNumber</td>\n      <td>0</td>\n      <td>31</td>\n      <td>2024-04-13 14:48:14.042</td>\n      <td>0</td>\n    </tr>\n    <tr>\n      <th>32</th>\n      <td>None</td>\n      <td>[123, 34, 110, 117, 109, 98, 101, 114, 34, 58,...</td>\n      <td>RandomNumber</td>\n      <td>0</td>\n      <td>32</td>\n      <td>2024-04-13 14:48:19.048</td>\n      <td>0</td>\n    </tr>\n  </tbody>\n</table>\n</div>"
     },
     "execution_count": 11,
     "metadata": {},
     "output_type": "execute_result"
    }
   ],
   "source": [
    "kafkaDf.toPandas()"
   ],
   "metadata": {
    "collapsed": false,
    "ExecuteTime": {
     "end_time": "2024-04-17T04:19:29.455194Z",
     "start_time": "2024-04-17T04:19:28.618885Z"
    }
   },
   "id": "9887f447fc3459cc",
   "execution_count": 11
  },
  {
   "cell_type": "markdown",
   "source": [
    "Show streaming data using for loop"
   ],
   "metadata": {
    "collapsed": false
   },
   "id": "a5b89fa500cad8ba"
  },
  {
   "cell_type": "code",
   "outputs": [
    {
     "name": "stdout",
     "output_type": "stream",
     "text": [
      "Live view ended...\n"
     ]
    }
   ],
   "source": [
    "from pyspark.sql.functions import col\n",
    "\n",
    "batchDF = kafkaDf.select(col('topic'),col('offset'),col('value').cast('string').substr(12,1).alias('rand_number'))\n",
    "from time import sleep\n",
    "from IPython.display import display, clear_output\n",
    "for x in range(0, 2000):\n",
    "    try:\n",
    "        print(\"Showing live view refreshed every 5 seconds\")\n",
    "        print(f\"Seconds passed: {x*5}\")\n",
    "        display(batchDF.toPandas())\n",
    "        sleep(5)\n",
    "        clear_output(wait=True)\n",
    "    except KeyboardInterrupt:\n",
    "        print(\"break\")\n",
    "    break\n",
    "print(\"Live view ended...\")"
   ],
   "metadata": {
    "collapsed": false
   },
   "id": "91bc9f48ca20ebba",
   "execution_count": 14
  },
  {
   "cell_type": "markdown",
   "source": [
    " Perform some data aggregation and show live results"
   ],
   "metadata": {
    "collapsed": false
   },
   "id": "2089a6edbeaa9fd3"
  },
  {
   "cell_type": "code",
   "outputs": [
    {
     "name": "stdout",
     "output_type": "stream",
     "text": [
      "Showing live view refreshed every 5 seconds\n",
      "Seconds passed: 0\n"
     ]
    },
    {
     "data": {
      "text/plain": "  rand_number  count\n0           7      2\n1           3      2\n2           8      2\n3           0      2\n4           5      2\n5           6      2\n6           9      2\n7           1     15\n8           4      2\n9           2      2",
      "text/html": "<div>\n<style scoped>\n    .dataframe tbody tr th:only-of-type {\n        vertical-align: middle;\n    }\n\n    .dataframe tbody tr th {\n        vertical-align: top;\n    }\n\n    .dataframe thead th {\n        text-align: right;\n    }\n</style>\n<table border=\"1\" class=\"dataframe\">\n  <thead>\n    <tr style=\"text-align: right;\">\n      <th></th>\n      <th>rand_number</th>\n      <th>count</th>\n    </tr>\n  </thead>\n  <tbody>\n    <tr>\n      <th>0</th>\n      <td>7</td>\n      <td>2</td>\n    </tr>\n    <tr>\n      <th>1</th>\n      <td>3</td>\n      <td>2</td>\n    </tr>\n    <tr>\n      <th>2</th>\n      <td>8</td>\n      <td>2</td>\n    </tr>\n    <tr>\n      <th>3</th>\n      <td>0</td>\n      <td>2</td>\n    </tr>\n    <tr>\n      <th>4</th>\n      <td>5</td>\n      <td>2</td>\n    </tr>\n    <tr>\n      <th>5</th>\n      <td>6</td>\n      <td>2</td>\n    </tr>\n    <tr>\n      <th>6</th>\n      <td>9</td>\n      <td>2</td>\n    </tr>\n    <tr>\n      <th>7</th>\n      <td>1</td>\n      <td>15</td>\n    </tr>\n    <tr>\n      <th>8</th>\n      <td>4</td>\n      <td>2</td>\n    </tr>\n    <tr>\n      <th>9</th>\n      <td>2</td>\n      <td>2</td>\n    </tr>\n  </tbody>\n</table>\n</div>"
     },
     "metadata": {},
     "output_type": "display_data"
    }
   ],
   "source": [
    "batchCountDF = batchDF.groupBy('rand_number').count()\n",
    "for x in range(0, 2000):\n",
    "    try:\n",
    "        print(\"Showing live view refreshed every 5 seconds\")\n",
    "        print(f\"Seconds passed: {x*5}\")\n",
    "        display(batchCountDF.toPandas())\n",
    "        sleep(100)\n",
    "        clear_output(wait=True)\n",
    "    except KeyboardInterrupt:\n",
    "        print(\"break\")\n",
    "    break\n",
    "print(\"Live view ended...\")"
   ],
   "metadata": {
    "collapsed": false,
    "is_executing": true,
    "ExecuteTime": {
     "start_time": "2024-04-17T04:28:36.674878Z"
    }
   },
   "id": "dde9c4ce11e781c3",
   "execution_count": null
  },
  {
   "cell_type": "markdown",
   "source": [
    "Creating a Kafka Source for Streaming Queries"
   ],
   "metadata": {
    "collapsed": false
   },
   "id": "2ad5955a69ca64eb"
  },
  {
   "cell_type": "code",
   "outputs": [],
   "source": [],
   "metadata": {
    "collapsed": false
   },
   "id": "aac5865381686c94"
  }
 ],
 "metadata": {
  "kernelspec": {
   "display_name": "Python 3",
   "language": "python",
   "name": "python3"
  },
  "language_info": {
   "codemirror_mode": {
    "name": "ipython",
    "version": 2
   },
   "file_extension": ".py",
   "mimetype": "text/x-python",
   "name": "python",
   "nbconvert_exporter": "python",
   "pygments_lexer": "ipython2",
   "version": "2.7.6"
  }
 },
 "nbformat": 4,
 "nbformat_minor": 5
}
