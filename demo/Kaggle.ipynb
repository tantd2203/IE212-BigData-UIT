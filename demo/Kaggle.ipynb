{
  "nbformat": 4,
  "nbformat_minor": 0,
  "metadata": {
    "colab": {
      "provenance": []
    },
    "kernelspec": {
      "name": "python3",
      "display_name": "Python 3"
    },
    "language_info": {
      "name": "python"
    }
  },
  "cells": [
    {
      "cell_type": "code",
      "execution_count": 1,
      "metadata": {
        "colab": {
          "base_uri": "https://localhost:8080/",
          "height": 0
        },
        "id": "E7DhCno--gwU",
        "outputId": "9d48fe02-ee2d-4473-808e-39fe07d45263"
      },
      "outputs": [
        {
          "output_type": "stream",
          "name": "stdout",
          "text": [
            "Collecting pyspark\n",
            "  Downloading pyspark-3.5.1.tar.gz (317.0 MB)\n",
            "\u001b[2K     \u001b[90m━━━━━━━━━━━━━━━━━━━━━━━━━━━━━━━━━━━━━━━━\u001b[0m \u001b[32m317.0/317.0 MB\u001b[0m \u001b[31m3.3 MB/s\u001b[0m eta \u001b[36m0:00:00\u001b[0m\n",
            "\u001b[?25h  Preparing metadata (setup.py) ... \u001b[?25l\u001b[?25hdone\n",
            "Requirement already satisfied: py4j==0.10.9.7 in /usr/local/lib/python3.10/dist-packages (from pyspark) (0.10.9.7)\n",
            "Building wheels for collected packages: pyspark\n",
            "  Building wheel for pyspark (setup.py) ... \u001b[?25l\u001b[?25hdone\n",
            "  Created wheel for pyspark: filename=pyspark-3.5.1-py2.py3-none-any.whl size=317488491 sha256=1d2e66502042aef1da670d1888eb8750097e266df4ffa7c23a8923ec50bca80f\n",
            "  Stored in directory: /root/.cache/pip/wheels/80/1d/60/2c256ed38dddce2fdd93be545214a63e02fbd8d74fb0b7f3a6\n",
            "Successfully built pyspark\n",
            "Installing collected packages: pyspark\n",
            "Successfully installed pyspark-3.5.1\n"
          ]
        }
      ],
      "source": [
        "!pip install pyspark"
      ]
    },
    {
      "cell_type": "code",
      "source": [
        "import pandas as pd\n",
        "\n",
        "import pyspark\n",
        "\n",
        "from pyspark.ml.classification import DecisionTreeClassifier\n",
        "\n",
        "from pyspark.ml.linalg import Vectors\n",
        "from pyspark.ml.feature import VectorAssembler\n",
        "from pyspark.ml import Pipeline\n",
        "\n",
        "\n",
        "\n",
        "from pyspark.ml.feature import StringIndexer, VectorIndexer, StringIndexerModel, IndexToString\n",
        "from pyspark.sql import SparkSession\n",
        "spark = SparkSession.builder.getOrCreate()"
      ],
      "metadata": {
        "id": "G1mEvxrl_6wG"
      },
      "execution_count": 2,
      "outputs": []
    },
    {
      "cell_type": "code",
      "source": [
        "train = spark.read.format(\"csv\").load(\"train.csv\",header = 'True',inferSchema='True')\n",
        "test = spark.read.format(\"csv\").load(\"test.csv\",header = 'True',inferSchema='True')"
      ],
      "metadata": {
        "id": "CkIIioTz_6r-"
      },
      "execution_count": 5,
      "outputs": []
    },
    {
      "cell_type": "code",
      "source": [
        "train.show(5)"
      ],
      "metadata": {
        "colab": {
          "base_uri": "https://localhost:8080/",
          "height": 0
        },
        "id": "o1jJQAiNAI4F",
        "outputId": "bf9528d6-aecb-4d17-b2e7-b67a165fce15"
      },
      "execution_count": 6,
      "outputs": [
        {
          "output_type": "stream",
          "name": "stdout",
          "text": [
            "+------+------------+-----------------+---------------+--------------+----------+------+-------------+\n",
            "|car_id|buying_price|maintenance_price|number_of_doors|carry_capacity|trunk_size|safety|acceptability|\n",
            "+------+------------+-----------------+---------------+--------------+----------+------+-------------+\n",
            "| 10001|         low|             high|              4|             4|       med|   med|          acc|\n",
            "| 10002|         med|              med|              2|             4|     small|   med|          acc|\n",
            "| 10003|         low|            vhigh|              4|             2|       med|   low|        unacc|\n",
            "| 10004|        high|             high|              2|          more|     small|   med|        unacc|\n",
            "| 10005|         low|             high|              3|             2|       med|   low|        unacc|\n",
            "+------+------------+-----------------+---------------+--------------+----------+------+-------------+\n",
            "only showing top 5 rows\n",
            "\n"
          ]
        }
      ]
    },
    {
      "cell_type": "code",
      "source": [
        "#convert string to index\n",
        "labelIndexer = StringIndexer(inputCol=\"acceptability\", outputCol=\"label\")\n",
        "buyIndexer = StringIndexer(inputCol=\"buying_price\", outputCol=\"indexedBuyPrice\")"
      ],
      "metadata": {
        "id": "ZqPJDQXaBWmc"
      },
      "execution_count": 7,
      "outputs": []
    },
    {
      "cell_type": "code",
      "source": [
        "indexedLabelTrain=labelIndexer.fit(train).transform(train)"
      ],
      "metadata": {
        "id": "bldU-R6bBYI2"
      },
      "execution_count": 15,
      "outputs": []
    },
    {
      "cell_type": "code",
      "source": [
        "indexedLabelTrain.show(5)"
      ],
      "metadata": {
        "colab": {
          "base_uri": "https://localhost:8080/",
          "height": 0
        },
        "id": "TK8G8LMmCpYb",
        "outputId": "4b4d8805-4c3f-4f91-982d-6d22fd8143e1"
      },
      "execution_count": 16,
      "outputs": [
        {
          "output_type": "stream",
          "name": "stdout",
          "text": [
            "+------+------------+-----------------+---------------+--------------+----------+------+-------------+-----+\n",
            "|car_id|buying_price|maintenance_price|number_of_doors|carry_capacity|trunk_size|safety|acceptability|label|\n",
            "+------+------------+-----------------+---------------+--------------+----------+------+-------------+-----+\n",
            "| 10001|         low|             high|              4|             4|       med|   med|          acc|  1.0|\n",
            "| 10002|         med|              med|              2|             4|     small|   med|          acc|  1.0|\n",
            "| 10003|         low|            vhigh|              4|             2|       med|   low|        unacc|  0.0|\n",
            "| 10004|        high|             high|              2|          more|     small|   med|        unacc|  0.0|\n",
            "| 10005|         low|             high|              3|             2|       med|   low|        unacc|  0.0|\n",
            "+------+------------+-----------------+---------------+--------------+----------+------+-------------+-----+\n",
            "only showing top 5 rows\n",
            "\n"
          ]
        }
      ]
    },
    {
      "cell_type": "code",
      "source": [
        "df1 = buyIndexer.fit(indexedLabelTrain).transform(indexedLabelTrain)\n",
        "df1.show(2)"
      ],
      "metadata": {
        "colab": {
          "base_uri": "https://localhost:8080/",
          "height": 0
        },
        "id": "7VnsLdmhCs7b",
        "outputId": "9cf058dc-6617-48c0-a5b8-259db81c6ad7"
      },
      "execution_count": 17,
      "outputs": [
        {
          "output_type": "stream",
          "name": "stdout",
          "text": [
            "+------+------------+-----------------+---------------+--------------+----------+------+-------------+-----+---------------+\n",
            "|car_id|buying_price|maintenance_price|number_of_doors|carry_capacity|trunk_size|safety|acceptability|label|indexedBuyPrice|\n",
            "+------+------------+-----------------+---------------+--------------+----------+------+-------------+-----+---------------+\n",
            "| 10001|         low|             high|              4|             4|       med|   med|          acc|  1.0|            2.0|\n",
            "| 10002|         med|              med|              2|             4|     small|   med|          acc|  1.0|            1.0|\n",
            "+------+------------+-----------------+---------------+--------------+----------+------+-------------+-----+---------------+\n",
            "only showing top 2 rows\n",
            "\n"
          ]
        }
      ]
    },
    {
      "cell_type": "code",
      "source": [
        "#  muốn tính toán gì phải chuyển qua dạn vector\n",
        "assembler = VectorAssembler(inputCols=[\"indexedBuyPrice\"],outputCol=\"features\")\n",
        "df2 = assembler.transform(df1)\n",
        "df2.show(2)"
      ],
      "metadata": {
        "colab": {
          "base_uri": "https://localhost:8080/",
          "height": 0
        },
        "id": "mPyh7kMBDOtS",
        "outputId": "ee02522a-7137-424d-d24a-4ed5c38aee17"
      },
      "execution_count": 18,
      "outputs": [
        {
          "output_type": "stream",
          "name": "stdout",
          "text": [
            "+------+------------+-----------------+---------------+--------------+----------+------+-------------+-----+---------------+--------+\n",
            "|car_id|buying_price|maintenance_price|number_of_doors|carry_capacity|trunk_size|safety|acceptability|label|indexedBuyPrice|features|\n",
            "+------+------------+-----------------+---------------+--------------+----------+------+-------------+-----+---------------+--------+\n",
            "| 10001|         low|             high|              4|             4|       med|   med|          acc|  1.0|            2.0|   [2.0]|\n",
            "| 10002|         med|              med|              2|             4|     small|   med|          acc|  1.0|            1.0|   [1.0]|\n",
            "+------+------------+-----------------+---------------+--------------+----------+------+-------------+-----+---------------+--------+\n",
            "only showing top 2 rows\n",
            "\n"
          ]
        }
      ]
    },
    {
      "cell_type": "code",
      "source": [
        "#  chọn mô hình xong chạy\n",
        "decission_tree_classifier_model2 = DecisionTreeClassifier(labelCol=\"label\", featuresCol=\"features\",maxDepth=10)\n",
        "decission_tree_classifier_model2.fit(df2).transform(df2).show(5)"
      ],
      "metadata": {
        "colab": {
          "base_uri": "https://localhost:8080/",
          "height": 0
        },
        "id": "InOMj5z_DizX",
        "outputId": "3b9a79ab-8344-41b6-fe95-cc8efc2898c9"
      },
      "execution_count": 19,
      "outputs": [
        {
          "output_type": "stream",
          "name": "stdout",
          "text": [
            "+------+------------+-----------------+---------------+--------------+----------+------+-------------+-----+---------------+--------+--------------------+--------------------+----------+\n",
            "|car_id|buying_price|maintenance_price|number_of_doors|carry_capacity|trunk_size|safety|acceptability|label|indexedBuyPrice|features|       rawPrediction|         probability|prediction|\n",
            "+------+------------+-----------------+---------------+--------------+----------+------+-------------+-----+---------------+--------+--------------------+--------------------+----------+\n",
            "| 10001|         low|             high|              4|             4|       med|   med|          acc|  1.0|            2.0|   [2.0]|[1015.0,306.0,56....|[0.71078431372549...|       0.0|\n",
            "| 10002|         med|              med|              2|             4|     small|   med|          acc|  1.0|            1.0|   [1.0]|[1015.0,306.0,56....|[0.71078431372549...|       0.0|\n",
            "| 10003|         low|            vhigh|              4|             2|       med|   low|        unacc|  0.0|            2.0|   [2.0]|[1015.0,306.0,56....|[0.71078431372549...|       0.0|\n",
            "| 10004|        high|             high|              2|          more|     small|   med|        unacc|  0.0|            3.0|   [3.0]|[1015.0,306.0,56....|[0.71078431372549...|       0.0|\n",
            "| 10005|         low|             high|              3|             2|       med|   low|        unacc|  0.0|            2.0|   [2.0]|[1015.0,306.0,56....|[0.71078431372549...|       0.0|\n",
            "+------+------------+-----------------+---------------+--------------+----------+------+-------------+-----+---------------+--------+--------------------+--------------------+----------+\n",
            "only showing top 5 rows\n",
            "\n"
          ]
        }
      ]
    },
    {
      "cell_type": "code",
      "source": [
        "#  tạo pipeline như thế này là ổn\n",
        "pipeline = Pipeline( stages = [buyIndexer, assembler,decission_tree_classifier_model2, ])"
      ],
      "metadata": {
        "id": "xh-LZpekD68P"
      },
      "execution_count": 20,
      "outputs": []
    },
    {
      "cell_type": "code",
      "source": [
        "model = pipeline.fit(indexedLabelTrain)\n",
        "model.transform(indexedLabelTrain).show()"
      ],
      "metadata": {
        "colab": {
          "base_uri": "https://localhost:8080/",
          "height": 0
        },
        "id": "KwBJ6Kk4EC6-",
        "outputId": "701aceca-4277-4c3c-dbaa-dadab2a48869"
      },
      "execution_count": 21,
      "outputs": [
        {
          "output_type": "stream",
          "name": "stdout",
          "text": [
            "+------+------------+-----------------+---------------+--------------+----------+------+-------------+-----+---------------+--------+--------------------+--------------------+----------+\n",
            "|car_id|buying_price|maintenance_price|number_of_doors|carry_capacity|trunk_size|safety|acceptability|label|indexedBuyPrice|features|       rawPrediction|         probability|prediction|\n",
            "+------+------------+-----------------+---------------+--------------+----------+------+-------------+-----+---------------+--------+--------------------+--------------------+----------+\n",
            "| 10001|         low|             high|              4|             4|       med|   med|          acc|  1.0|            2.0|   [2.0]|[1015.0,306.0,56....|[0.71078431372549...|       0.0|\n",
            "| 10002|         med|              med|              2|             4|     small|   med|          acc|  1.0|            1.0|   [1.0]|[1015.0,306.0,56....|[0.71078431372549...|       0.0|\n",
            "| 10003|         low|            vhigh|              4|             2|       med|   low|        unacc|  0.0|            2.0|   [2.0]|[1015.0,306.0,56....|[0.71078431372549...|       0.0|\n",
            "| 10004|        high|             high|              2|          more|     small|   med|        unacc|  0.0|            3.0|   [3.0]|[1015.0,306.0,56....|[0.71078431372549...|       0.0|\n",
            "| 10005|         low|             high|              3|             2|       med|   low|        unacc|  0.0|            2.0|   [2.0]|[1015.0,306.0,56....|[0.71078431372549...|       0.0|\n",
            "| 10006|         med|              med|          5more|             2|       med|   med|        unacc|  0.0|            1.0|   [1.0]|[1015.0,306.0,56....|[0.71078431372549...|       0.0|\n",
            "| 10007|         med|            vhigh|              2|             4|       big|   low|        unacc|  0.0|            1.0|   [1.0]|[1015.0,306.0,56....|[0.71078431372549...|       0.0|\n",
            "| 10008|         low|              low|              2|          more|       med|  high|         good|  2.0|            2.0|   [2.0]|[1015.0,306.0,56....|[0.71078431372549...|       0.0|\n",
            "| 10009|       vhigh|              med|              3|             4|     small|   low|        unacc|  0.0|            0.0|   [0.0]|[1015.0,306.0,56....|[0.71078431372549...|       0.0|\n",
            "| 10010|         low|              low|              2|             2|       med|  high|        unacc|  0.0|            2.0|   [2.0]|[1015.0,306.0,56....|[0.71078431372549...|       0.0|\n",
            "| 10011|         low|              low|              3|          more|       big|   low|        unacc|  0.0|            2.0|   [2.0]|[1015.0,306.0,56....|[0.71078431372549...|       0.0|\n",
            "| 10012|         med|              med|              4|          more|       med|  high|        vgood|  3.0|            1.0|   [1.0]|[1015.0,306.0,56....|[0.71078431372549...|       0.0|\n",
            "| 10013|         low|              med|          5more|             4|       med|   med|         good|  2.0|            2.0|   [2.0]|[1015.0,306.0,56....|[0.71078431372549...|       0.0|\n",
            "| 10014|       vhigh|            vhigh|              3|          more|       big|   low|        unacc|  0.0|            0.0|   [0.0]|[1015.0,306.0,56....|[0.71078431372549...|       0.0|\n",
            "| 10015|       vhigh|              med|          5more|             2|       med|   med|        unacc|  0.0|            0.0|   [0.0]|[1015.0,306.0,56....|[0.71078431372549...|       0.0|\n",
            "| 10016|        high|              low|              4|             2|       med|   low|        unacc|  0.0|            3.0|   [3.0]|[1015.0,306.0,56....|[0.71078431372549...|       0.0|\n",
            "| 10017|         med|             high|          5more|          more|     small|   med|        unacc|  0.0|            1.0|   [1.0]|[1015.0,306.0,56....|[0.71078431372549...|       0.0|\n",
            "| 10018|        high|             high|          5more|             4|       med|  high|          acc|  1.0|            3.0|   [3.0]|[1015.0,306.0,56....|[0.71078431372549...|       0.0|\n",
            "| 10019|        high|            vhigh|              4|          more|       big|   low|        unacc|  0.0|            3.0|   [3.0]|[1015.0,306.0,56....|[0.71078431372549...|       0.0|\n",
            "| 10020|         low|              med|              4|          more|       big|   med|         good|  2.0|            2.0|   [2.0]|[1015.0,306.0,56....|[0.71078431372549...|       0.0|\n",
            "+------+------------+-----------------+---------------+--------------+----------+------+-------------+-----+---------------+--------+--------------------+--------------------+----------+\n",
            "only showing top 20 rows\n",
            "\n"
          ]
        }
      ]
    },
    {
      "cell_type": "code",
      "source": [
        "# tạo sao cho giống cái sample\n",
        "testSolutions = pipeline.fit(indexedLabelTrain).transform(test).select('car_id','prediction')\n",
        "testSolutions.show()\n",
        "\n",
        "labelsArray = [\"unacc\",\"acc\",\"good\",\"vgood\"]\n",
        "testSolutions = IndexToString(inputCol=\"prediction\", outputCol=\"acceptability\", labels = labelsArray).transform(testSolutions)\n",
        "testSolutions.show()\n",
        "\n",
        "\n",
        "solutions = testSolutions.select('car_id','acceptability')\n",
        "solutions.show()\n",
        "solutions.toPandas().to_csv(\"dumpsolutions.csv\",header=True, index=False)"
      ],
      "metadata": {
        "colab": {
          "base_uri": "https://localhost:8080/",
          "height": 0
        },
        "id": "ytWCwH5ZEUm6",
        "outputId": "e24b8c43-3c74-47dd-9097-51dbad784be9"
      },
      "execution_count": 22,
      "outputs": [
        {
          "output_type": "stream",
          "name": "stdout",
          "text": [
            "+------+----------+\n",
            "|car_id|prediction|\n",
            "+------+----------+\n",
            "| 11429|       0.0|\n",
            "| 11430|       0.0|\n",
            "| 11431|       0.0|\n",
            "| 11432|       0.0|\n",
            "| 11433|       0.0|\n",
            "| 11434|       0.0|\n",
            "| 11435|       0.0|\n",
            "| 11436|       0.0|\n",
            "| 11437|       0.0|\n",
            "| 11438|       0.0|\n",
            "| 11439|       0.0|\n",
            "| 11440|       0.0|\n",
            "| 11441|       0.0|\n",
            "| 11442|       0.0|\n",
            "| 11443|       0.0|\n",
            "| 11444|       0.0|\n",
            "| 11445|       0.0|\n",
            "| 11446|       0.0|\n",
            "| 11447|       0.0|\n",
            "| 11448|       0.0|\n",
            "+------+----------+\n",
            "only showing top 20 rows\n",
            "\n",
            "+------+----------+-------------+\n",
            "|car_id|prediction|acceptability|\n",
            "+------+----------+-------------+\n",
            "| 11429|       0.0|        unacc|\n",
            "| 11430|       0.0|        unacc|\n",
            "| 11431|       0.0|        unacc|\n",
            "| 11432|       0.0|        unacc|\n",
            "| 11433|       0.0|        unacc|\n",
            "| 11434|       0.0|        unacc|\n",
            "| 11435|       0.0|        unacc|\n",
            "| 11436|       0.0|        unacc|\n",
            "| 11437|       0.0|        unacc|\n",
            "| 11438|       0.0|        unacc|\n",
            "| 11439|       0.0|        unacc|\n",
            "| 11440|       0.0|        unacc|\n",
            "| 11441|       0.0|        unacc|\n",
            "| 11442|       0.0|        unacc|\n",
            "| 11443|       0.0|        unacc|\n",
            "| 11444|       0.0|        unacc|\n",
            "| 11445|       0.0|        unacc|\n",
            "| 11446|       0.0|        unacc|\n",
            "| 11447|       0.0|        unacc|\n",
            "| 11448|       0.0|        unacc|\n",
            "+------+----------+-------------+\n",
            "only showing top 20 rows\n",
            "\n",
            "+------+-------------+\n",
            "|car_id|acceptability|\n",
            "+------+-------------+\n",
            "| 11429|        unacc|\n",
            "| 11430|        unacc|\n",
            "| 11431|        unacc|\n",
            "| 11432|        unacc|\n",
            "| 11433|        unacc|\n",
            "| 11434|        unacc|\n",
            "| 11435|        unacc|\n",
            "| 11436|        unacc|\n",
            "| 11437|        unacc|\n",
            "| 11438|        unacc|\n",
            "| 11439|        unacc|\n",
            "| 11440|        unacc|\n",
            "| 11441|        unacc|\n",
            "| 11442|        unacc|\n",
            "| 11443|        unacc|\n",
            "| 11444|        unacc|\n",
            "| 11445|        unacc|\n",
            "| 11446|        unacc|\n",
            "| 11447|        unacc|\n",
            "| 11448|        unacc|\n",
            "+------+-------------+\n",
            "only showing top 20 rows\n",
            "\n"
          ]
        }
      ]
    }
  ]
}