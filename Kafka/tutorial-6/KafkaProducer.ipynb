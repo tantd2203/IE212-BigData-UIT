{
 "cells": [
  {
   "cell_type": "code",
   "outputs": [
    {
     "name": "stdout",
     "output_type": "stream",
     "text": [
      "Requirement already satisfied: pyspark in d:\\udemy\\airflowtutorial\\.venv\\ie212-bigdata-uit\\lib\\site-packages (3.5.1)\n",
      "Requirement already satisfied: py4j==0.10.9.7 in d:\\udemy\\airflowtutorial\\.venv\\ie212-bigdata-uit\\lib\\site-packages (from pyspark) (0.10.9.7)\n"
     ]
    }
   ],
   "source": [
    "!pip install pyspark"
   ],
   "metadata": {
    "collapsed": false,
    "ExecuteTime": {
     "end_time": "2024-05-09T05:49:49.153502Z",
     "start_time": "2024-05-09T05:49:47.078450Z"
    }
   },
   "id": "3b7e78662251307",
   "execution_count": 3
  },
  {
   "cell_type": "code",
   "outputs": [
    {
     "name": "stdout",
     "output_type": "stream",
     "text": [
      "Requirement already satisfied: spark in d:\\udemy\\airflowtutorial\\.venv\\ie212-bigdata-uit\\lib\\site-packages (0.2.1)\n"
     ]
    }
   ],
   "source": [
    "! pip install spark"
   ],
   "metadata": {
    "collapsed": false,
    "ExecuteTime": {
     "end_time": "2024-05-09T05:52:45.569343Z",
     "start_time": "2024-05-09T05:52:43.367887Z"
    }
   },
   "id": "c0e6d0d0bea5e870",
   "execution_count": 7
  },
  {
   "cell_type": "code",
   "outputs": [
    {
     "name": "stdout",
     "output_type": "stream",
     "text": [
      "Requirement already satisfied: pyspark in d:\\udemy\\airflowtutorial\\.venv\\ie212-bigdata-uit\\lib\\site-packages (3.5.1)\n",
      "Requirement already satisfied: py4j==0.10.9.7 in d:\\udemy\\airflowtutorial\\.venv\\ie212-bigdata-uit\\lib\\site-packages (from pyspark) (0.10.9.7)\n"
     ]
    }
   ],
   "source": [
    "!pip install pyspark"
   ],
   "metadata": {
    "collapsed": false,
    "ExecuteTime": {
     "end_time": "2024-05-09T05:50:37.140559Z",
     "start_time": "2024-05-09T05:50:35.491825Z"
    }
   },
   "id": "37bc6001a85dd090",
   "execution_count": 4
  },
  {
   "cell_type": "code",
   "outputs": [
    {
     "name": "stdout",
     "output_type": "stream",
     "text": [
      "{'number': 0} sent\n",
      "{'number': 1} sent\n",
      "{'number': 2} sent\n",
      "{'number': 3} sent\n",
      "{'number': 4} sent\n",
      "{'number': 5} sent\n",
      "{'number': 6} sent\n",
      "{'number': 7} sent\n",
      "{'number': 8} sent\n",
      "{'number': 9} sent\n",
      "{'number': 10} sent\n",
      "{'number': 11} sent\n",
      "{'number': 12} sent\n",
      "{'number': 13} sent\n",
      "{'number': 14} sent\n",
      "{'number': 15} sent\n",
      "{'number': 16} sent\n",
      "{'number': 17} sent\n",
      "{'number': 18} sent\n",
      "{'number': 19} sent\n",
      "{'number': 20} sent\n",
      "{'number': 21} sent\n",
      "{'number': 22} sent\n",
      "{'number': 23} sent\n",
      "{'number': 24} sent\n",
      "{'number': 25} sent\n",
      "{'number': 26} sent\n",
      "{'number': 27} sent\n",
      "{'number': 28} sent\n",
      "{'number': 29} sent\n",
      "{'number': 30} sent\n",
      "{'number': 31} sent\n",
      "{'number': 32} sent\n",
      "{'number': 33} sent\n",
      "{'number': 34} sent\n",
      "{'number': 35} sent\n",
      "{'number': 36} sent\n",
      "{'number': 37} sent\n",
      "{'number': 38} sent\n",
      "{'number': 39} sent\n",
      "{'number': 40} sent\n",
      "{'number': 41} sent\n",
      "{'number': 42} sent\n",
      "{'number': 43} sent\n",
      "{'number': 44} sent\n",
      "{'number': 45} sent\n",
      "{'number': 46} sent\n",
      "{'number': 47} sent\n",
      "{'number': 48} sent\n",
      "{'number': 49} sent\n",
      "{'number': 50} sent\n",
      "{'number': 51} sent\n",
      "{'number': 52} sent\n",
      "{'number': 53} sent\n",
      "{'number': 54} sent\n",
      "{'number': 55} sent\n",
      "{'number': 56} sent\n",
      "{'number': 57} sent\n",
      "{'number': 58} sent\n",
      "{'number': 59} sent\n",
      "{'number': 60} sent\n",
      "{'number': 61} sent\n",
      "{'number': 62} sent\n",
      "{'number': 63} sent\n",
      "{'number': 64} sent\n",
      "{'number': 65} sent\n",
      "{'number': 66} sent\n",
      "{'number': 67} sent\n",
      "{'number': 68} sent\n",
      "{'number': 69} sent\n",
      "{'number': 70} sent\n",
      "{'number': 71} sent\n",
      "{'number': 72} sent\n",
      "{'number': 73} sent\n",
      "{'number': 74} sent\n",
      "{'number': 75} sent\n",
      "{'number': 76} sent\n",
      "{'number': 77} sent\n",
      "{'number': 78} sent\n",
      "{'number': 79} sent\n",
      "{'number': 80} sent\n",
      "{'number': 81} sent\n",
      "{'number': 82} sent\n",
      "{'number': 83} sent\n",
      "{'number': 84} sent\n",
      "{'number': 85} sent\n",
      "{'number': 86} sent\n",
      "{'number': 87} sent\n",
      "{'number': 88} sent\n",
      "{'number': 89} sent\n",
      "{'number': 90} sent\n",
      "{'number': 91} sent\n",
      "{'number': 92} sent\n",
      "{'number': 93} sent\n",
      "{'number': 94} sent\n",
      "{'number': 95} sent\n",
      "{'number': 96} sent\n",
      "{'number': 97} sent\n",
      "{'number': 98} sent\n",
      "{'number': 99} sent\n",
      "{'number': 100} sent\n",
      "{'number': 101} sent\n",
      "{'number': 102} sent\n",
      "{'number': 103} sent\n",
      "{'number': 104} sent\n",
      "{'number': 105} sent\n",
      "{'number': 106} sent\n",
      "{'number': 107} sent\n",
      "{'number': 108} sent\n",
      "{'number': 109} sent\n",
      "{'number': 110} sent\n",
      "{'number': 111} sent\n",
      "{'number': 112} sent\n",
      "{'number': 113} sent\n",
      "{'number': 114} sent\n",
      "{'number': 115} sent\n",
      "{'number': 116} sent\n",
      "{'number': 117} sent\n",
      "{'number': 118} sent\n",
      "{'number': 119} sent\n",
      "{'number': 120} sent\n",
      "{'number': 121} sent\n",
      "{'number': 122} sent\n",
      "{'number': 123} sent\n",
      "{'number': 124} sent\n",
      "{'number': 125} sent\n",
      "{'number': 126} sent\n",
      "{'number': 127} sent\n",
      "{'number': 128} sent\n",
      "{'number': 129} sent\n",
      "{'number': 130} sent\n",
      "{'number': 131} sent\n",
      "{'number': 132} sent\n",
      "{'number': 133} sent\n",
      "{'number': 134} sent\n",
      "{'number': 135} sent\n",
      "{'number': 136} sent\n",
      "{'number': 137} sent\n",
      "{'number': 138} sent\n",
      "{'number': 139} sent\n",
      "{'number': 140} sent\n",
      "{'number': 141} sent\n",
      "{'number': 142} sent\n",
      "{'number': 143} sent\n",
      "{'number': 144} sent\n",
      "{'number': 145} sent\n",
      "{'number': 146} sent\n",
      "{'number': 147} sent\n",
      "{'number': 148} sent\n",
      "{'number': 149} sent\n",
      "{'number': 150} sent\n",
      "{'number': 151} sent\n"
     ]
    },
    {
     "ename": "KeyboardInterrupt",
     "evalue": "",
     "output_type": "error",
     "traceback": [
      "\u001B[1;31m---------------------------------------------------------------------------\u001B[0m",
      "\u001B[1;31mKeyboardInterrupt\u001B[0m                         Traceback (most recent call last)",
      "Cell \u001B[1;32mIn[2], line 13\u001B[0m\n\u001B[0;32m     11\u001B[0m     producer\u001B[38;5;241m.\u001B[39msend(topic_name, value\u001B[38;5;241m=\u001B[39mdata)\n\u001B[0;32m     12\u001B[0m     \u001B[38;5;28mprint\u001B[39m(\u001B[38;5;28mstr\u001B[39m(data) \u001B[38;5;241m+\u001B[39m \u001B[38;5;124m\"\u001B[39m\u001B[38;5;124m sent\u001B[39m\u001B[38;5;124m\"\u001B[39m)\n\u001B[1;32m---> 13\u001B[0m     sleep(\u001B[38;5;241m1\u001B[39m)\n\u001B[0;32m     15\u001B[0m producer\u001B[38;5;241m.\u001B[39mflush()\n",
      "\u001B[1;31mKeyboardInterrupt\u001B[0m: "
     ]
    }
   ],
   "source": [
    "from kafka import  KafkaProducer\n",
    "from json import dumps\n",
    "from time import sleep \n",
    "\n",
    "\n",
    "topic_name = 'RandomNumber'\n",
    "kafka_server = 'localhost:9092'\n",
    "producer = KafkaProducer(bootstrap_servers=kafka_server,value_serializer = lambda x:dumps(x).encode('utf-8'))\n",
    "for e  in range (1000):\n",
    "    data = {'number': e}\n",
    "    producer.send(topic_name, value=data)\n",
    "    print(str(data) + \" sent\")\n",
    "    sleep(1)\n",
    "    \n",
    "producer.flush()"
   ],
   "metadata": {
    "collapsed": false,
    "ExecuteTime": {
     "start_time": "2024-05-20T13:30:13.360311Z"
    }
   },
   "id": "3f20fafba6714a1d",
   "execution_count": 2
  },
  {
   "cell_type": "code",
   "outputs": [],
   "source": [],
   "metadata": {
    "collapsed": false
   },
   "id": "d98a3eb47097f018"
  }
 ],
 "metadata": {
  "kernelspec": {
   "display_name": "Python 3",
   "language": "python",
   "name": "python3"
  },
  "language_info": {
   "codemirror_mode": {
    "name": "ipython",
    "version": 2
   },
   "file_extension": ".py",
   "mimetype": "text/x-python",
   "name": "python",
   "nbconvert_exporter": "python",
   "pygments_lexer": "ipython2",
   "version": "2.7.6"
  }
 },
 "nbformat": 4,
 "nbformat_minor": 5
}
