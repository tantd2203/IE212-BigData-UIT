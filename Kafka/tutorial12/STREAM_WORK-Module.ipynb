{
 "cells": [
  {
   "cell_type": "code",
   "outputs": [
    {
     "data": {
      "text/plain": "<pyspark.sql.session.SparkSession at 0x154b306ca10>",
      "text/html": "\n            <div>\n                <p><b>SparkSession - in-memory</b></p>\n                \n        <div>\n            <p><b>SparkContext</b></p>\n\n            <p><a href=\"http://DESKTOP-VIFGORN:4040\">Spark UI</a></p>\n\n            <dl>\n              <dt>Version</dt>\n                <dd><code>v3.5.0</code></dd>\n              <dt>Master</dt>\n                <dd><code>local</code></dd>\n              <dt>AppName</dt>\n                <dd><code>Spotify Streaming Reccomendation System</code></dd>\n            </dl>\n        </div>\n        \n            </div>\n        "
     },
     "execution_count": 1,
     "metadata": {},
     "output_type": "execute_result"
    }
   ],
   "source": [
    "from pyspark.sql import SparkSession\n",
    "from pyspark.sql.functions import *\n",
    "from pyspark.ml.feature import Normalizer, StandardScaler\n",
    "import random\n",
    "import logging\n",
    "import findspark\n",
    "findspark.init()\n",
    "\n",
    "import time\n",
    "\n",
    "kafka_topic_name = \"songTopic\"\n",
    "kafka_bootstrap_servers = 'localhost:9092'\n",
    "\n",
    "scala_version = '2.12'  # your scala version\n",
    "spark_version = '3.5.0'  # your spark version\n",
    "kafka_version = '3.6.2' # your kafka version\n",
    "\n",
    "packages = [\n",
    "    f'org.apache.spark:spark-sql-kafka-0-10_{scala_version}:{spark_version}',\n",
    "    f'org.apache.kafka:kafka-clients:{kafka_version}'\n",
    "\n",
    "]\n",
    "spark = SparkSession.builder.master(\"local\").appName(\"Spotify Streaming Reccomendation System\").config(\"spark.jars.packages\", \",\".join(packages)).getOrCreate()\n",
    "spark\n",
    "\n"
   ],
   "metadata": {
    "collapsed": true,
    "ExecuteTime": {
     "end_time": "2024-05-11T08:05:16.092893Z",
     "start_time": "2024-05-11T08:04:56.437444Z"
    }
   },
   "id": "initial_id",
   "execution_count": 1
  },
  {
   "cell_type": "markdown",
   "source": [],
   "metadata": {
    "collapsed": false
   },
   "id": "beb32f2cc5d6c33c"
  },
  {
   "cell_type": "code",
   "outputs": [
    {
     "ename": "StreamingQueryException",
     "evalue": "[STREAM_FAILED] Query [id = e9b0f004-cfe5-48ba-bb71-3ae9a65f2ed1, runId = d9e47804-e40f-4050-b17f-7deffe60ca87] terminated with exception: org.apache.hadoop.io.nativeio.NativeIO$Windows.access0(Ljava/lang/String;I)Z",
     "output_type": "error",
     "traceback": [
      "\u001B[1;31m---------------------------------------------------------------------------\u001B[0m",
      "\u001B[1;31mStreamingQueryException\u001B[0m                   Traceback (most recent call last)",
      "Cell \u001B[1;32mIn[26], line 54\u001B[0m\n\u001B[0;32m     44\u001B[0m song_find_text \u001B[38;5;241m=\u001B[39m spark\u001B[38;5;241m.\u001B[39msql(\u001B[38;5;124m\"\u001B[39m\u001B[38;5;124mSELECT * FROM song_find\u001B[39m\u001B[38;5;124m\"\u001B[39m)\n\u001B[0;32m     45\u001B[0m songs_agg_write_stream \u001B[38;5;241m=\u001B[39m song_find_text \\\n\u001B[0;32m     46\u001B[0m         \u001B[38;5;241m.\u001B[39mwriteStream \\\n\u001B[0;32m     47\u001B[0m         \u001B[38;5;241m.\u001B[39mtrigger(processingTime\u001B[38;5;241m=\u001B[39m\u001B[38;5;124m'\u001B[39m\u001B[38;5;124m5 seconds\u001B[39m\u001B[38;5;124m'\u001B[39m) \\\n\u001B[1;32m   (...)\u001B[0m\n\u001B[0;32m     51\u001B[0m         \u001B[38;5;241m.\u001B[39mqueryName(\u001B[38;5;124m\"\u001B[39m\u001B[38;5;124mtestedTable5\u001B[39m\u001B[38;5;124m\"\u001B[39m) \\\n\u001B[0;32m     52\u001B[0m         \u001B[38;5;241m.\u001B[39mstart()\n\u001B[1;32m---> 54\u001B[0m \u001B[43msongs_agg_write_stream\u001B[49m\u001B[38;5;241;43m.\u001B[39;49m\u001B[43mawaitTermination\u001B[49m\u001B[43m(\u001B[49m\u001B[43m)\u001B[49m\n",
      "File \u001B[1;32mD:\\Udemy\\AirflowTutorial\\.venv\\IE212-BigData-UIT\\Lib\\site-packages\\pyspark\\sql\\streaming.py:107\u001B[0m, in \u001B[0;36mStreamingQuery.awaitTermination\u001B[1;34m(self, timeout)\u001B[0m\n\u001B[0;32m    105\u001B[0m     \u001B[38;5;28;01mreturn\u001B[39;00m \u001B[38;5;28mself\u001B[39m\u001B[38;5;241m.\u001B[39m_jsq\u001B[38;5;241m.\u001B[39mawaitTermination(\u001B[38;5;28mint\u001B[39m(timeout \u001B[38;5;241m*\u001B[39m \u001B[38;5;241m1000\u001B[39m))\n\u001B[0;32m    106\u001B[0m \u001B[38;5;28;01melse\u001B[39;00m:\n\u001B[1;32m--> 107\u001B[0m     \u001B[38;5;28;01mreturn\u001B[39;00m \u001B[38;5;28;43mself\u001B[39;49m\u001B[38;5;241;43m.\u001B[39;49m\u001B[43m_jsq\u001B[49m\u001B[38;5;241;43m.\u001B[39;49m\u001B[43mawaitTermination\u001B[49m\u001B[43m(\u001B[49m\u001B[43m)\u001B[49m\n",
      "File \u001B[1;32mD:\\Udemy\\AirflowTutorial\\.venv\\IE212-BigData-UIT\\Lib\\site-packages\\py4j\\java_gateway.py:1321\u001B[0m, in \u001B[0;36mJavaMember.__call__\u001B[1;34m(self, *args)\u001B[0m\n\u001B[0;32m   1315\u001B[0m command \u001B[38;5;241m=\u001B[39m proto\u001B[38;5;241m.\u001B[39mCALL_COMMAND_NAME \u001B[38;5;241m+\u001B[39m\\\n\u001B[0;32m   1316\u001B[0m     \u001B[38;5;28mself\u001B[39m\u001B[38;5;241m.\u001B[39mcommand_header \u001B[38;5;241m+\u001B[39m\\\n\u001B[0;32m   1317\u001B[0m     args_command \u001B[38;5;241m+\u001B[39m\\\n\u001B[0;32m   1318\u001B[0m     proto\u001B[38;5;241m.\u001B[39mEND_COMMAND_PART\n\u001B[0;32m   1320\u001B[0m answer \u001B[38;5;241m=\u001B[39m \u001B[38;5;28mself\u001B[39m\u001B[38;5;241m.\u001B[39mgateway_client\u001B[38;5;241m.\u001B[39msend_command(command)\n\u001B[1;32m-> 1321\u001B[0m return_value \u001B[38;5;241m=\u001B[39m \u001B[43mget_return_value\u001B[49m\u001B[43m(\u001B[49m\n\u001B[0;32m   1322\u001B[0m \u001B[43m    \u001B[49m\u001B[43manswer\u001B[49m\u001B[43m,\u001B[49m\u001B[43m \u001B[49m\u001B[38;5;28;43mself\u001B[39;49m\u001B[38;5;241;43m.\u001B[39;49m\u001B[43mgateway_client\u001B[49m\u001B[43m,\u001B[49m\u001B[43m \u001B[49m\u001B[38;5;28;43mself\u001B[39;49m\u001B[38;5;241;43m.\u001B[39;49m\u001B[43mtarget_id\u001B[49m\u001B[43m,\u001B[49m\u001B[43m \u001B[49m\u001B[38;5;28;43mself\u001B[39;49m\u001B[38;5;241;43m.\u001B[39;49m\u001B[43mname\u001B[49m\u001B[43m)\u001B[49m\n\u001B[0;32m   1324\u001B[0m \u001B[38;5;28;01mfor\u001B[39;00m temp_arg \u001B[38;5;129;01min\u001B[39;00m temp_args:\n\u001B[0;32m   1325\u001B[0m     temp_arg\u001B[38;5;241m.\u001B[39m_detach()\n",
      "File \u001B[1;32mD:\\Udemy\\AirflowTutorial\\.venv\\IE212-BigData-UIT\\Lib\\site-packages\\pyspark\\sql\\utils.py:196\u001B[0m, in \u001B[0;36mcapture_sql_exception.<locals>.deco\u001B[1;34m(*a, **kw)\u001B[0m\n\u001B[0;32m    192\u001B[0m converted \u001B[38;5;241m=\u001B[39m convert_exception(e\u001B[38;5;241m.\u001B[39mjava_exception)\n\u001B[0;32m    193\u001B[0m \u001B[38;5;28;01mif\u001B[39;00m \u001B[38;5;129;01mnot\u001B[39;00m \u001B[38;5;28misinstance\u001B[39m(converted, UnknownException):\n\u001B[0;32m    194\u001B[0m     \u001B[38;5;66;03m# Hide where the exception came from that shows a non-Pythonic\u001B[39;00m\n\u001B[0;32m    195\u001B[0m     \u001B[38;5;66;03m# JVM exception message.\u001B[39;00m\n\u001B[1;32m--> 196\u001B[0m     \u001B[38;5;28;01mraise\u001B[39;00m converted \u001B[38;5;28;01mfrom\u001B[39;00m \u001B[38;5;28;01mNone\u001B[39;00m\n\u001B[0;32m    197\u001B[0m \u001B[38;5;28;01melse\u001B[39;00m:\n\u001B[0;32m    198\u001B[0m     \u001B[38;5;28;01mraise\u001B[39;00m\n",
      "\u001B[1;31mStreamingQueryException\u001B[0m: [STREAM_FAILED] Query [id = e9b0f004-cfe5-48ba-bb71-3ae9a65f2ed1, runId = d9e47804-e40f-4050-b17f-7deffe60ca87] terminated with exception: org.apache.hadoop.io.nativeio.NativeIO$Windows.access0(Ljava/lang/String;I)Z"
     ]
    }
   ],
   "source": [
    "# songs_df  = spark.read.format(\"kafka\").option(\"kafka.bootstrap.servers\", kafka_bootstrap_servers).option(\"subscribe\",\n",
    "# kafka_topic_name).option(\"startingOffsets\",\"earliest\").load()\n",
    "songs_df = spark \\\n",
    "        .readStream \\\n",
    "        .format(\"kafka\") \\\n",
    "        .option(\"kafka.bootstrap.servers\", kafka_bootstrap_servers) \\\n",
    "        .option(\"subscribe\", kafka_topic_name) \\\n",
    "        .option(\"startingOffsets\", \"latest\") \\\n",
    "        .load()\n",
    "songs_df1 = songs_df.selectExpr(\"CAST(value AS STRING)\", \"timestamp\")\n",
    "songs_schema_string = \"order_id INT,id STRING, name STRING,popularity INT, duration_ms DOUBLE, explicit INT, \" \\\n",
    "                           + \"artists STRING, id_artists STRING, release_date STRING, \" \\\n",
    "                           + \"danceability DOUBLE,\" \\\n",
    "                           + \"energy DOUBLE, key INT, loudness DOUBLE, \" \\\n",
    "                           + \"mode INT,\" \\\n",
    "                           + \"speechiness DOUBLE,\" \\\n",
    "                           + \"acousticness DOUBLE, instrumentalness DOUBLE, liveness DOUBLE, \" \\\n",
    "                           + \"valence DOUBLE, tempo DOUBLE, time_signature DOUBLE\"\n",
    "\n",
    "songs_df2 = songs_df1 \\\n",
    "        .select(from_csv(col(\"value\"), songs_schema_string) \\\n",
    "                .alias(\"song\"), \"timestamp\")\n",
    "\n",
    "\n",
    "songs_df3 = songs_df2.select(\"song.*\", \"timestamp\")\n",
    "\n",
    "\n",
    "def simple():    \n",
    "    songs_df3.createOrReplaceTempView(\"song_find\");\n",
    "    song_find_text = spark.sql(\"SELECT name, artists FROM song_find\")\n",
    "    songs_agg_write_stream = song_find_text \\\n",
    "            .writeStream \\\n",
    "            .trigger(processingTime='5 seconds') \\\n",
    "            .outputMode(\"update\") \\\n",
    "            .option(\"truncate\", \"false\") \\\n",
    "            .format(\"console\") \\\n",
    "            .start()\n",
    "\n",
    "    songs_agg_write_stream.awaitTermination()\n",
    "\n",
    "    print(\"Songs Streaming...\")\n",
    "    \n",
    "songs_df3.createOrReplaceTempView(\"song_find\");\n",
    "song_find_text = spark.sql(\"SELECT * FROM song_find\")\n",
    "songs_agg_write_stream = song_find_text \\\n",
    "        .writeStream \\\n",
    "        .trigger(processingTime='5 seconds') \\\n",
    "        .outputMode(\"append\") \\\n",
    "        .option(\"truncate\", \"false\") \\\n",
    "        .format(\"memory\") \\\n",
    "        .queryName(\"testedTable5\") \\\n",
    "        .start()\n",
    "\n",
    "songs_agg_write_stream.awaitTermination()\n"
   ],
   "metadata": {
    "collapsed": false,
    "ExecuteTime": {
     "end_time": "2024-05-11T08:21:12.997609Z",
     "start_time": "2024-05-11T08:21:12.420451Z"
    }
   },
   "id": "6be393b337c1202c",
   "execution_count": 26
  },
  {
   "cell_type": "markdown",
   "source": [],
   "metadata": {
    "collapsed": false
   },
   "id": "3331196354799065"
  },
  {
   "cell_type": "code",
   "outputs": [
    {
     "name": "stderr",
     "output_type": "stream",
     "text": [
      "\n",
      "                You need to set your Spotify API credentials.\n",
      "                You can do this by setting environment variables like so:\n",
      "\n",
      "                export SPOTIPY_CLIENT_ID='your-spotify-client-id'\n",
      "                export SPOTIPY_CLIENT_SECRET='your-spotify-client-secret'\n",
      "                export SPOTIPY_REDIRECT_URI='your-app-redirect-url'\n",
      "\n",
      "                Get your credentials at\n",
      "                    https://developer.spotify.com/my-applications\n",
      "            \n"
     ]
    },
    {
     "ename": "SpotifyException",
     "evalue": "http status: 550, code:-1 - no credentials set, reason: None",
     "output_type": "error",
     "traceback": [
      "\u001B[1;31m---------------------------------------------------------------------------\u001B[0m",
      "\u001B[1;31mSpotifyException\u001B[0m                          Traceback (most recent call last)",
      "Cell \u001B[1;32mIn[27], line 2\u001B[0m\n\u001B[0;32m      1\u001B[0m \u001B[38;5;28;01mimport\u001B[39;00m \u001B[38;5;21;01mpandas\u001B[39;00m \u001B[38;5;28;01mas\u001B[39;00m \u001B[38;5;21;01mpd\u001B[39;00m\n\u001B[1;32m----> 2\u001B[0m \u001B[38;5;28;01mfrom\u001B[39;00m \u001B[38;5;21;01mspotify_api\u001B[39;00m \u001B[38;5;28;01mimport\u001B[39;00m getSong\n\u001B[0;32m      3\u001B[0m song_data \u001B[38;5;241m=\u001B[39m getSong\u001B[38;5;241m.\u001B[39mpasss()\n\u001B[0;32m      4\u001B[0m \u001B[38;5;66;03m#song_data.rename(columns={'duration_s': 'duration_ms' }, inplace=True)\u001B[39;00m\n",
      "File \u001B[1;32mD:\\UIT\\BigData\\IE212-BigData-UIT\\Kafka\\tutorial12\\spotify_api.py:26\u001B[0m\n\u001B[0;32m     23\u001B[0m scope \u001B[38;5;241m=\u001B[39m \u001B[38;5;124m'\u001B[39m\u001B[38;5;124muser-library-read\u001B[39m\u001B[38;5;124m'\u001B[39m\n\u001B[0;32m     24\u001B[0m username \u001B[38;5;241m=\u001B[39m \u001B[38;5;124m'\u001B[39m\u001B[38;5;124m'\u001B[39m\n\u001B[1;32m---> 26\u001B[0m token \u001B[38;5;241m=\u001B[39m \u001B[43mspotipy\u001B[49m\u001B[38;5;241;43m.\u001B[39;49m\u001B[43mutil\u001B[49m\u001B[38;5;241;43m.\u001B[39;49m\u001B[43mprompt_for_user_token\u001B[49m\u001B[43m(\u001B[49m\u001B[43musername\u001B[49m\u001B[43m,\u001B[49m\u001B[43m \u001B[49m\u001B[43mscope\u001B[49m\u001B[43m)\u001B[49m\n\u001B[0;32m     28\u001B[0m \u001B[38;5;28;01mif\u001B[39;00m token:\n\u001B[0;32m     29\u001B[0m     spotipy_obj \u001B[38;5;241m=\u001B[39m spotipy\u001B[38;5;241m.\u001B[39mSpotify(auth\u001B[38;5;241m=\u001B[39mtoken)\n",
      "File \u001B[1;32mD:\\Udemy\\AirflowTutorial\\.venv\\IE212-BigData-UIT\\Lib\\site-packages\\spotipy\\util.py:80\u001B[0m, in \u001B[0;36mprompt_for_user_token\u001B[1;34m(username, scope, client_id, client_secret, redirect_uri, cache_path, oauth_manager, show_dialog)\u001B[0m\n\u001B[0;32m     66\u001B[0m     \u001B[38;5;28;01mif\u001B[39;00m \u001B[38;5;129;01mnot\u001B[39;00m client_id:\n\u001B[0;32m     67\u001B[0m         LOGGER\u001B[38;5;241m.\u001B[39mwarning(\n\u001B[0;32m     68\u001B[0m \u001B[38;5;250m            \u001B[39m\u001B[38;5;124;03m\"\"\"\u001B[39;00m\n\u001B[0;32m     69\u001B[0m \u001B[38;5;124;03m            You need to set your Spotify API credentials.\u001B[39;00m\n\u001B[1;32m   (...)\u001B[0m\n\u001B[0;32m     78\u001B[0m \u001B[38;5;124;03m        \"\"\"\u001B[39;00m\n\u001B[0;32m     79\u001B[0m         )\n\u001B[1;32m---> 80\u001B[0m         \u001B[38;5;28;01mraise\u001B[39;00m spotipy\u001B[38;5;241m.\u001B[39mSpotifyException(\u001B[38;5;241m550\u001B[39m, \u001B[38;5;241m-\u001B[39m\u001B[38;5;241m1\u001B[39m, \u001B[38;5;124m\"\u001B[39m\u001B[38;5;124mno credentials set\u001B[39m\u001B[38;5;124m\"\u001B[39m)\n\u001B[0;32m     82\u001B[0m sp_oauth \u001B[38;5;241m=\u001B[39m oauth_manager \u001B[38;5;129;01mor\u001B[39;00m spotipy\u001B[38;5;241m.\u001B[39mSpotifyOAuth(\n\u001B[0;32m     83\u001B[0m     client_id,\n\u001B[0;32m     84\u001B[0m     client_secret,\n\u001B[1;32m   (...)\u001B[0m\n\u001B[0;32m     89\u001B[0m     show_dialog\u001B[38;5;241m=\u001B[39mshow_dialog\n\u001B[0;32m     90\u001B[0m )\n\u001B[0;32m     92\u001B[0m \u001B[38;5;66;03m# try to get a valid token for this user, from the cache,\u001B[39;00m\n\u001B[0;32m     93\u001B[0m \u001B[38;5;66;03m# if not in the cache, then create a new (this will send\u001B[39;00m\n\u001B[0;32m     94\u001B[0m \u001B[38;5;66;03m# the user to a web page where they can authorize this app)\u001B[39;00m\n",
      "\u001B[1;31mSpotifyException\u001B[0m: http status: 550, code:-1 - no credentials set, reason: None"
     ]
    }
   ],
   "source": [
    "import pandas as pd\n",
    "from spotify_api import getSong\n",
    "song_data = getSong.passs()\n",
    "#song_data.rename(columns={'duration_s': 'duration_ms' }, inplace=True)\n",
    "song_data = song_data.drop(['id', 'added_at', 'time_signature','duration_s'], axis='columns')\n",
    "rand_n = random. randint(0,len(song_data)-1)\n",
    "add_df = song_data.head(rand_n)[-1:]"
   ],
   "metadata": {
    "collapsed": false,
    "ExecuteTime": {
     "end_time": "2024-05-11T08:21:43.756576Z",
     "start_time": "2024-05-11T08:21:40.432699Z"
    }
   },
   "id": "65682aab0be6a6e1",
   "execution_count": 27
  },
  {
   "cell_type": "code",
   "outputs": [],
   "source": [],
   "metadata": {
    "collapsed": false
   },
   "id": "b3e57a9b65ddac2d"
  }
 ],
 "metadata": {
  "kernelspec": {
   "display_name": "Python 3",
   "language": "python",
   "name": "python3"
  },
  "language_info": {
   "codemirror_mode": {
    "name": "ipython",
    "version": 2
   },
   "file_extension": ".py",
   "mimetype": "text/x-python",
   "name": "python",
   "nbconvert_exporter": "python",
   "pygments_lexer": "ipython2",
   "version": "2.7.6"
  }
 },
 "nbformat": 4,
 "nbformat_minor": 5
}
